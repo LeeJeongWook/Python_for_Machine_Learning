{
  "nbformat": 4,
  "nbformat_minor": 0,
  "metadata": {
    "colab": {
      "name": "Numerical_Python-Numpy.ipynb",
      "provenance": []
    },
    "kernelspec": {
      "name": "python3",
      "display_name": "Python 3"
    },
    "language_info": {
      "name": "python"
    }
  },
  "cells": [
    {
      "cell_type": "code",
      "execution_count": 1,
      "metadata": {
        "id": "1vcEl64EwHBH"
      },
      "outputs": [],
      "source": [
        "coefficient_matrix = [[2,2,1],[2,-1,2],[1,-1,2]]\n",
        "constant_vector = [9,6,5]"
      ]
    },
    {
      "cell_type": "markdown",
      "source": [
        "- 다양한 Matrix 계산을 어떻게 만들 것 인가?\n",
        "- 굉장히 큰 Matrix에 대한 표현\n",
        "- 처리 속도 문제 – 파이썬은 Interpreter 언"
      ],
      "metadata": {
        "id": "P_B7L4EHwlRi"
      }
    },
    {
      "cell_type": "markdown",
      "source": [
        "#Numpy\n",
        "- Numerical Python\n",
        "- 파이썬의 고성능 과학 계산용 패키지\n",
        "- Matrix와 Vector와 같은 Array 연산의 사실상의 표준\n",
        "- 한글로 넘파이로 주로 통칭, 넘피/늄파이라고 부르기도 함\n",
        "- 일반 List에 비해 빠르고, 메모리 효율적\n",
        "- 반복문 없이 데이터 배열에 대한 처리를 지원함\n",
        "- 선형대수와 관련된 다양한 기능을 제공함\n",
        "- C, C++, 포트란 등의 언어와 통합 가능"
      ],
      "metadata": {
        "id": "487NuXto2XxI"
      }
    },
    {
      "cell_type": "markdown",
      "source": [
        "### 1\\.ndarray"
      ],
      "metadata": {
        "id": "JzkEMuey2kKa"
      }
    },
    {
      "cell_type": "code",
      "source": [
        "import numpy as np"
      ],
      "metadata": {
        "id": "af4z0bPU2gie"
      },
      "execution_count": 2,
      "outputs": []
    },
    {
      "cell_type": "code",
      "source": [
        "test_array = np.array([1, 4, 5, 8], float)\n",
        "print(test_array)\n",
        "type(test_array[3])"
      ],
      "metadata": {
        "colab": {
          "base_uri": "https://localhost:8080/"
        },
        "id": "RZwTe2jR2QFQ",
        "outputId": "bbe75542-af9c-4145-bf52-1533a343fc9f"
      },
      "execution_count": 3,
      "outputs": [
        {
          "output_type": "stream",
          "name": "stdout",
          "text": [
            "[1. 4. 5. 8.]\n"
          ]
        },
        {
          "output_type": "execute_result",
          "data": {
            "text/plain": [
              "numpy.float64"
            ]
          },
          "metadata": {},
          "execution_count": 3
        }
      ]
    },
    {
      "cell_type": "code",
      "source": [
        "test_array = np.array([1, 4, 5, 8], float)\n",
        "test_array"
      ],
      "metadata": {
        "colab": {
          "base_uri": "https://localhost:8080/"
        },
        "id": "XQMjFqv02xt3",
        "outputId": "0f124cb4-aeee-41eb-fed1-351c1ad477a4"
      },
      "execution_count": 4,
      "outputs": [
        {
          "output_type": "execute_result",
          "data": {
            "text/plain": [
              "array([1., 4., 5., 8.])"
            ]
          },
          "metadata": {},
          "execution_count": 4
        }
      ]
    },
    {
      "cell_type": "code",
      "source": [
        "type(test_array[3])"
      ],
      "metadata": {
        "colab": {
          "base_uri": "https://localhost:8080/"
        },
        "id": "RKLkaOzz2zM1",
        "outputId": "648350f8-f96f-40a8-f950-109fcdfd9436"
      },
      "execution_count": 5,
      "outputs": [
        {
          "output_type": "execute_result",
          "data": {
            "text/plain": [
              "numpy.float64"
            ]
          },
          "metadata": {},
          "execution_count": 5
        }
      ]
    },
    {
      "cell_type": "code",
      "source": [
        "test_array = np.array([1, 4, 5, \"8\"], float) # String Type의 데이터를 입력해도\n",
        "test_array"
      ],
      "metadata": {
        "colab": {
          "base_uri": "https://localhost:8080/"
        },
        "id": "7rkR6oym228z",
        "outputId": "b5c0c346-3820-4b5c-e19c-dfd893eef947"
      },
      "execution_count": 6,
      "outputs": [
        {
          "output_type": "execute_result",
          "data": {
            "text/plain": [
              "array([1., 4., 5., 8.])"
            ]
          },
          "metadata": {},
          "execution_count": 6
        }
      ]
    },
    {
      "cell_type": "code",
      "source": [
        "print(type(test_array[3]))\t# Float Type으로 자동 형변환을 실시"
      ],
      "metadata": {
        "colab": {
          "base_uri": "https://localhost:8080/"
        },
        "id": "yqKI6rtW3LJd",
        "outputId": "7c16cb0e-1a0f-4efa-db34-1d79f82647a5"
      },
      "execution_count": 7,
      "outputs": [
        {
          "output_type": "stream",
          "name": "stdout",
          "text": [
            "<class 'numpy.float64'>\n"
          ]
        }
      ]
    },
    {
      "cell_type": "code",
      "source": [
        "print(test_array.dtype)     # Array(배열) 전체의 데이터 Type을 반환함"
      ],
      "metadata": {
        "colab": {
          "base_uri": "https://localhost:8080/"
        },
        "id": "FmjZAUrT3NKL",
        "outputId": "7ddcabcc-94fd-4267-a89c-a215336e6b86"
      },
      "execution_count": 8,
      "outputs": [
        {
          "output_type": "stream",
          "name": "stdout",
          "text": [
            "float64\n"
          ]
        }
      ]
    },
    {
      "cell_type": "code",
      "source": [
        "print(test_array.shape)     # Array(배열) 의 shape을 반환함"
      ],
      "metadata": {
        "colab": {
          "base_uri": "https://localhost:8080/"
        },
        "id": "y7L4vvuJ3Ow3",
        "outputId": "8741696d-a07e-4dbb-bcfb-a6901899db82"
      },
      "execution_count": 9,
      "outputs": [
        {
          "output_type": "stream",
          "name": "stdout",
          "text": [
            "(4,)\n"
          ]
        }
      ]
    },
    {
      "cell_type": "markdown",
      "source": [
        "Array shape(vector)\n",
        "- Array (vector, matrix, tensor)의 크기, 형태 등에 대한 정보"
      ],
      "metadata": {
        "id": "bXM1Bgky3V__"
      }
    },
    {
      "cell_type": "code",
      "source": [
        "matrix = [[1,2,5,8],[1,2,5,8],[1,2,5,8]]\n",
        "np.array(matrix, int).shape"
      ],
      "metadata": {
        "colab": {
          "base_uri": "https://localhost:8080/"
        },
        "id": "PrGH3lN63YYw",
        "outputId": "c2ea2a6f-7389-4d0e-c5e5-ddfa5ac28b9e"
      },
      "execution_count": 10,
      "outputs": [
        {
          "output_type": "execute_result",
          "data": {
            "text/plain": [
              "(3, 4)"
            ]
          },
          "metadata": {},
          "execution_count": 10
        }
      ]
    },
    {
      "cell_type": "code",
      "source": [
        "tensor = [[[1,2,5,8],[1,2,5,8],[1,2,5,8]],\n",
        "          [[1,2,5,8],[1,2,5,8],[1,2,5,8]],\n",
        "          [[1,2,5,8],[1,2,5,8],[1,2,5,8]],\n",
        "          [[1,2,5,8],[1,2,5,8],[1,2,5,8]]]\n",
        "np.array(tensor, int).shape"
      ],
      "metadata": {
        "colab": {
          "base_uri": "https://localhost:8080/"
        },
        "id": "XiGkzKJj3gaH",
        "outputId": "da5acdf5-63e2-415d-b56a-ae986f44bcff"
      },
      "execution_count": 11,
      "outputs": [
        {
          "output_type": "execute_result",
          "data": {
            "text/plain": [
              "(4, 3, 4)"
            ]
          },
          "metadata": {},
          "execution_count": 11
        }
      ]
    },
    {
      "cell_type": "markdown",
      "source": [
        "- ndim – number of dimension\n",
        "- size – data의 개수"
      ],
      "metadata": {
        "id": "f4rWBSUL36zs"
      }
    },
    {
      "cell_type": "code",
      "source": [
        "np.array(tensor, int).ndim"
      ],
      "metadata": {
        "colab": {
          "base_uri": "https://localhost:8080/"
        },
        "id": "nhlQONzV37NT",
        "outputId": "47902023-5923-4ef3-d600-d5e72db958d9"
      },
      "execution_count": 12,
      "outputs": [
        {
          "output_type": "execute_result",
          "data": {
            "text/plain": [
              "3"
            ]
          },
          "metadata": {},
          "execution_count": 12
        }
      ]
    },
    {
      "cell_type": "code",
      "source": [
        "np.array(tensor, int).size"
      ],
      "metadata": {
        "colab": {
          "base_uri": "https://localhost:8080/"
        },
        "id": "u0uxnML_3_KU",
        "outputId": "038e9cc7-48b2-4514-8fce-67d23c36ac91"
      },
      "execution_count": 13,
      "outputs": [
        {
          "output_type": "execute_result",
          "data": {
            "text/plain": [
              "48"
            ]
          },
          "metadata": {},
          "execution_count": 13
        }
      ]
    },
    {
      "cell_type": "markdown",
      "source": [
        "- Ndarray의 single element가 가지는 data type\n",
        "- 각 element가 차지하는 memory의 크기가 결정됨"
      ],
      "metadata": {
        "id": "xZ-QVJTS4EiO"
      }
    },
    {
      "cell_type": "code",
      "source": [
        "np.array([[1,2,3,],[4.5,5,6]], dtype=int)"
      ],
      "metadata": {
        "colab": {
          "base_uri": "https://localhost:8080/"
        },
        "id": "NtvW5IbK4C8w",
        "outputId": "33495585-7efa-4d38-e469-9cae702ea6a6"
      },
      "execution_count": 14,
      "outputs": [
        {
          "output_type": "execute_result",
          "data": {
            "text/plain": [
              "array([[1, 2, 3],\n",
              "       [4, 5, 6]])"
            ]
          },
          "metadata": {},
          "execution_count": 14
        }
      ]
    },
    {
      "cell_type": "code",
      "source": [
        "np.array([[1,2,3,],[4.5,\"5\",\"6\"]], dtype=np.float32)"
      ],
      "metadata": {
        "colab": {
          "base_uri": "https://localhost:8080/"
        },
        "id": "V9Jwx2s_4Vzv",
        "outputId": "fabec9cc-35e1-4c33-ccc4-31d208b88d10"
      },
      "execution_count": 15,
      "outputs": [
        {
          "output_type": "execute_result",
          "data": {
            "text/plain": [
              "array([[1. , 2. , 3. ],\n",
              "       [4.5, 5. , 6. ]], dtype=float32)"
            ]
          },
          "metadata": {},
          "execution_count": 15
        }
      ]
    },
    {
      "cell_type": "code",
      "source": [
        "np.array([[1,2,3,],[4.5,\"5\",\"6\"]], dtype=int)"
      ],
      "metadata": {
        "colab": {
          "base_uri": "https://localhost:8080/"
        },
        "id": "kupe9lXP4eCn",
        "outputId": "ccb23e0f-e750-45bc-9a4e-d090f0a436ff"
      },
      "execution_count": 16,
      "outputs": [
        {
          "output_type": "execute_result",
          "data": {
            "text/plain": [
              "array([[1, 2, 3],\n",
              "       [4, 5, 6]])"
            ]
          },
          "metadata": {},
          "execution_count": 16
        }
      ]
    },
    {
      "cell_type": "markdown",
      "source": [
        "- nbytes – ndarray object의 메모리 크기를 반환함"
      ],
      "metadata": {
        "id": "9fWhurff4jOV"
      }
    },
    {
      "cell_type": "code",
      "source": [
        "np.array([[1,2,3,],[4.5,\"5\",\"6\"]], dtype=np.float32).nbytes # 32bits = 4bytes -> 6 * 4bytes"
      ],
      "metadata": {
        "colab": {
          "base_uri": "https://localhost:8080/"
        },
        "id": "QbzJwhM-4c6Y",
        "outputId": "f2785c9c-c39c-4512-d660-a74b3cebe784"
      },
      "execution_count": 17,
      "outputs": [
        {
          "output_type": "execute_result",
          "data": {
            "text/plain": [
              "24"
            ]
          },
          "metadata": {},
          "execution_count": 17
        }
      ]
    },
    {
      "cell_type": "code",
      "source": [
        "np.array([[1,2,3,],[4.5,\"5\",\"6\"]], dtype=np.int8).nbytes # 8bits = 1bytes -> 6 * 1bytes"
      ],
      "metadata": {
        "colab": {
          "base_uri": "https://localhost:8080/"
        },
        "id": "FznUUCdB4qzz",
        "outputId": "c5e58098-516f-41ec-f0bd-e65fd84719c2"
      },
      "execution_count": 18,
      "outputs": [
        {
          "output_type": "execute_result",
          "data": {
            "text/plain": [
              "6"
            ]
          },
          "metadata": {},
          "execution_count": 18
        }
      ]
    },
    {
      "cell_type": "code",
      "source": [
        "np.array([[1,2,3,],[4.5,\"5\",\"6\"]], dtype=np.float64).nbytes # 64bits = 8bytes -> 6 * 48bytes"
      ],
      "metadata": {
        "colab": {
          "base_uri": "https://localhost:8080/"
        },
        "id": "-o1cvKC_4uE3",
        "outputId": "56ad76f4-3b17-49a2-a767-1a4b66238c77"
      },
      "execution_count": 19,
      "outputs": [
        {
          "output_type": "execute_result",
          "data": {
            "text/plain": [
              "48"
            ]
          },
          "metadata": {},
          "execution_count": 19
        }
      ]
    },
    {
      "cell_type": "markdown",
      "source": [
        "###2\\. Handling shape"
      ],
      "metadata": {
        "id": "iFFNm14A5AeT"
      }
    },
    {
      "cell_type": "code",
      "source": [
        "test_matrix = [[1,2,3,4,],[1,2,5,8]]\n",
        "np.array(test_matrix).shape"
      ],
      "metadata": {
        "colab": {
          "base_uri": "https://localhost:8080/"
        },
        "id": "tMWcftqI4-sZ",
        "outputId": "580605d3-3e8c-469b-8466-97b0252073e2"
      },
      "execution_count": 20,
      "outputs": [
        {
          "output_type": "execute_result",
          "data": {
            "text/plain": [
              "(2, 4)"
            ]
          },
          "metadata": {},
          "execution_count": 20
        }
      ]
    },
    {
      "cell_type": "markdown",
      "source": [
        "Array의 shape의 크기를 변경함 (element의 갯수는 동일)"
      ],
      "metadata": {
        "id": "QCof8mui5PkZ"
      }
    },
    {
      "cell_type": "code",
      "source": [
        "np.array(test_matrix).reshape(8,)"
      ],
      "metadata": {
        "colab": {
          "base_uri": "https://localhost:8080/"
        },
        "id": "ez98RPsT5J0P",
        "outputId": "6e821a22-1a26-4725-c507-e37c6a261933"
      },
      "execution_count": 21,
      "outputs": [
        {
          "output_type": "execute_result",
          "data": {
            "text/plain": [
              "array([1, 2, 3, 4, 1, 2, 5, 8])"
            ]
          },
          "metadata": {},
          "execution_count": 21
        }
      ]
    },
    {
      "cell_type": "code",
      "source": [
        "np.array(test_matrix).reshape(8,).shape"
      ],
      "metadata": {
        "colab": {
          "base_uri": "https://localhost:8080/"
        },
        "id": "mo--Kl0E5T5n",
        "outputId": "74baaae4-0e2b-4f19-cb6d-11efe9f402c1"
      },
      "execution_count": 22,
      "outputs": [
        {
          "output_type": "execute_result",
          "data": {
            "text/plain": [
              "(8,)"
            ]
          },
          "metadata": {},
          "execution_count": 22
        }
      ]
    },
    {
      "cell_type": "markdown",
      "source": [
        "Array의 size만 같다면 다차원으로 자유로이 변형가능"
      ],
      "metadata": {
        "id": "WwOb-Hza5Xx-"
      }
    },
    {
      "cell_type": "code",
      "source": [
        "np.array(test_matrix).reshape(2,4).shape"
      ],
      "metadata": {
        "colab": {
          "base_uri": "https://localhost:8080/"
        },
        "id": "d6e9fIJC5VJe",
        "outputId": "9513f99c-cbfd-4559-8ff0-736c45d16fb9"
      },
      "execution_count": 23,
      "outputs": [
        {
          "output_type": "execute_result",
          "data": {
            "text/plain": [
              "(2, 4)"
            ]
          },
          "metadata": {},
          "execution_count": 23
        }
      ]
    },
    {
      "cell_type": "code",
      "source": [
        "np.array(test_matrix).reshape(-1,2).shape   # -1: size를 기반으로 row 개수 선정"
      ],
      "metadata": {
        "colab": {
          "base_uri": "https://localhost:8080/"
        },
        "id": "ICWaedQu5bfA",
        "outputId": "71982a55-2bec-4a38-d7a2-bd474cbe9f3d"
      },
      "execution_count": 24,
      "outputs": [
        {
          "output_type": "execute_result",
          "data": {
            "text/plain": [
              "(4, 2)"
            ]
          },
          "metadata": {},
          "execution_count": 24
        }
      ]
    },
    {
      "cell_type": "code",
      "source": [
        "np.array(test_matrix).reshape(2,2,2)"
      ],
      "metadata": {
        "colab": {
          "base_uri": "https://localhost:8080/"
        },
        "id": "nquQTrX75hg_",
        "outputId": "d50faf0e-c159-4091-c37d-501ed33a771a"
      },
      "execution_count": 25,
      "outputs": [
        {
          "output_type": "execute_result",
          "data": {
            "text/plain": [
              "array([[[1, 2],\n",
              "        [3, 4]],\n",
              "\n",
              "       [[1, 2],\n",
              "        [5, 8]]])"
            ]
          },
          "metadata": {},
          "execution_count": 25
        }
      ]
    },
    {
      "cell_type": "code",
      "source": [
        "np.array(test_matrix).reshape(2,2,2).shape"
      ],
      "metadata": {
        "colab": {
          "base_uri": "https://localhost:8080/"
        },
        "id": "RTqkUzEN5l9a",
        "outputId": "ab70ef81-29ad-4678-abc3-53d2ea455502"
      },
      "execution_count": 26,
      "outputs": [
        {
          "output_type": "execute_result",
          "data": {
            "text/plain": [
              "(2, 2, 2)"
            ]
          },
          "metadata": {},
          "execution_count": 26
        }
      ]
    },
    {
      "cell_type": "markdown",
      "source": [
        "flatten\n",
        "- 다차원 array를 1차원 array로 변환"
      ],
      "metadata": {
        "id": "jI0CBMff5owO"
      }
    },
    {
      "cell_type": "code",
      "source": [
        "test_matrix = [[[1,2,3,4],[1,2,5,8]],[[1,2,3,4],[1,2,5,8]]]\n",
        "np.array(test_matrix).flatten()"
      ],
      "metadata": {
        "colab": {
          "base_uri": "https://localhost:8080/"
        },
        "id": "TPVzKI0B5vyX",
        "outputId": "8d2c083f-f8d3-4ec2-bb20-127abca463a2"
      },
      "execution_count": 27,
      "outputs": [
        {
          "output_type": "execute_result",
          "data": {
            "text/plain": [
              "array([1, 2, 3, 4, 1, 2, 5, 8, 1, 2, 3, 4, 1, 2, 5, 8])"
            ]
          },
          "metadata": {},
          "execution_count": 27
        }
      ]
    },
    {
      "cell_type": "markdown",
      "source": [
        "###3\\. Indexing & Slicing"
      ],
      "metadata": {
        "id": "x0Qw7aSG6Ayh"
      }
    },
    {
      "cell_type": "markdown",
      "source": [
        "- List와 달리 이차원 배열에서 [0,0] 과 같은 표기법을 제공함\n",
        "- Matrix 일경우 앞은 row 뒤는 column을 의미함"
      ],
      "metadata": {
        "id": "iysn1Vs66Dzg"
      }
    },
    {
      "cell_type": "markdown",
      "source": [
        "####Indexing"
      ],
      "metadata": {
        "id": "JEKaIR2w7J76"
      }
    },
    {
      "cell_type": "code",
      "source": [
        "a = np.array([[1, 2, 3], [4.5, 5, 6]], int)\n",
        "print(a)"
      ],
      "metadata": {
        "colab": {
          "base_uri": "https://localhost:8080/"
        },
        "id": "zUaxjgtZ57iX",
        "outputId": "036db3c1-a320-4369-9820-a7b3c7011689"
      },
      "execution_count": 28,
      "outputs": [
        {
          "output_type": "stream",
          "name": "stdout",
          "text": [
            "[[1 2 3]\n",
            " [4 5 6]]\n"
          ]
        }
      ]
    },
    {
      "cell_type": "code",
      "source": [
        "print(a[0,0]) # Two dimensional array representation #1"
      ],
      "metadata": {
        "colab": {
          "base_uri": "https://localhost:8080/"
        },
        "id": "oxkATYbp6L2x",
        "outputId": "86f808e1-c10e-4f37-d240-6f5a4731c29c"
      },
      "execution_count": 29,
      "outputs": [
        {
          "output_type": "stream",
          "name": "stdout",
          "text": [
            "1\n"
          ]
        }
      ]
    },
    {
      "cell_type": "code",
      "source": [
        "print(a[0][0]) # Two dimensional array representation #2"
      ],
      "metadata": {
        "colab": {
          "base_uri": "https://localhost:8080/"
        },
        "id": "rqY74wvj6MJP",
        "outputId": "d32db312-f6f5-4352-b46e-3935ba2a5722"
      },
      "execution_count": 30,
      "outputs": [
        {
          "output_type": "stream",
          "name": "stdout",
          "text": [
            "1\n"
          ]
        }
      ]
    },
    {
      "cell_type": "code",
      "source": [
        "a[0,0] = 12 # Matrix 0,0 에 12 할당\n",
        "print(a)"
      ],
      "metadata": {
        "colab": {
          "base_uri": "https://localhost:8080/"
        },
        "id": "mxAezAIf6MRF",
        "outputId": "42850495-926a-4887-ed61-4036b438a23c"
      },
      "execution_count": 31,
      "outputs": [
        {
          "output_type": "stream",
          "name": "stdout",
          "text": [
            "[[12  2  3]\n",
            " [ 4  5  6]]\n"
          ]
        }
      ]
    },
    {
      "cell_type": "code",
      "source": [
        "a[0][0] = 5 # Matrix 0,0 에 12 할당\n",
        "print(a)"
      ],
      "metadata": {
        "colab": {
          "base_uri": "https://localhost:8080/"
        },
        "id": "aJJ3RfxE5_pp",
        "outputId": "952be73e-5db6-4f8a-8e8f-14761e02f7ab"
      },
      "execution_count": 32,
      "outputs": [
        {
          "output_type": "stream",
          "name": "stdout",
          "text": [
            "[[5 2 3]\n",
            " [4 5 6]]\n"
          ]
        }
      ]
    },
    {
      "cell_type": "code",
      "source": [
        "test_example = np.array([[1,2,3],[4.5,5,6]],int)\n",
        "test_example"
      ],
      "metadata": {
        "colab": {
          "base_uri": "https://localhost:8080/"
        },
        "id": "o4CBo_wm6q80",
        "outputId": "684d1998-8e38-49ea-fdf4-a7661e039f59"
      },
      "execution_count": 33,
      "outputs": [
        {
          "output_type": "execute_result",
          "data": {
            "text/plain": [
              "array([[1, 2, 3],\n",
              "       [4, 5, 6]])"
            ]
          },
          "metadata": {},
          "execution_count": 33
        }
      ]
    },
    {
      "cell_type": "code",
      "source": [
        "test_example[0][0]"
      ],
      "metadata": {
        "colab": {
          "base_uri": "https://localhost:8080/"
        },
        "id": "ptCwgQyP6wqt",
        "outputId": "e0de43e7-6281-4ab0-b6f2-a44c1fdfbddd"
      },
      "execution_count": 34,
      "outputs": [
        {
          "output_type": "execute_result",
          "data": {
            "text/plain": [
              "1"
            ]
          },
          "metadata": {},
          "execution_count": 34
        }
      ]
    },
    {
      "cell_type": "code",
      "source": [
        "test_example[0,0]"
      ],
      "metadata": {
        "colab": {
          "base_uri": "https://localhost:8080/"
        },
        "id": "tTRHwblq60ho",
        "outputId": "756cf849-92e4-4b79-b198-2bc4e512629a"
      },
      "execution_count": 35,
      "outputs": [
        {
          "output_type": "execute_result",
          "data": {
            "text/plain": [
              "1"
            ]
          },
          "metadata": {},
          "execution_count": 35
        }
      ]
    },
    {
      "cell_type": "code",
      "source": [
        "test_example[0,0] = 12  # Matrix 0,0에 12할당\n",
        "test_example"
      ],
      "metadata": {
        "colab": {
          "base_uri": "https://localhost:8080/"
        },
        "id": "4rIBsnUj62AJ",
        "outputId": "3774e928-bde5-4bc4-921c-f5906729027a"
      },
      "execution_count": 36,
      "outputs": [
        {
          "output_type": "execute_result",
          "data": {
            "text/plain": [
              "array([[12,  2,  3],\n",
              "       [ 4,  5,  6]])"
            ]
          },
          "metadata": {},
          "execution_count": 36
        }
      ]
    },
    {
      "cell_type": "code",
      "source": [
        "test_example[0,0] = 5  # Matrix 0,0에 5할당\n",
        "print(test_example)\n",
        "print(test_example[0][0])"
      ],
      "metadata": {
        "colab": {
          "base_uri": "https://localhost:8080/"
        },
        "id": "MXfqZy3z6_lo",
        "outputId": "5f923b9b-8184-4a09-ed1d-e1fa448d2b03"
      },
      "execution_count": 37,
      "outputs": [
        {
          "output_type": "stream",
          "name": "stdout",
          "text": [
            "[[5 2 3]\n",
            " [4 5 6]]\n",
            "5\n"
          ]
        }
      ]
    },
    {
      "cell_type": "markdown",
      "source": [
        "####Slicing\n",
        "- List와 달리 행과 열 부분을 나눠서 slicing이 가능함\n",
        "- Matrix의 부분 집합을 추출할 때 유용함"
      ],
      "metadata": {
        "id": "KMIa2ota7NdG"
      }
    },
    {
      "cell_type": "code",
      "source": [
        "a = np.array([[1, 2, 3, 4, 5], [6, 7, 8, 9, 10]], int)\n",
        "a[:,2:]     # 전체 Row의 2열 이상"
      ],
      "metadata": {
        "colab": {
          "base_uri": "https://localhost:8080/"
        },
        "id": "2h4ZuU6C7Obt",
        "outputId": "ddec47e8-ea99-4940-a0d5-fb2d9cbdfed9"
      },
      "execution_count": 38,
      "outputs": [
        {
          "output_type": "execute_result",
          "data": {
            "text/plain": [
              "array([[ 3,  4,  5],\n",
              "       [ 8,  9, 10]])"
            ]
          },
          "metadata": {},
          "execution_count": 38
        }
      ]
    },
    {
      "cell_type": "code",
      "source": [
        "a[1,1:3]    # 1 Row의 1열 ~ 2열"
      ],
      "metadata": {
        "colab": {
          "base_uri": "https://localhost:8080/"
        },
        "id": "LzhNqsH37bmI",
        "outputId": "efabd8ff-7056-469e-93a2-e42a81b83adf"
      },
      "execution_count": 39,
      "outputs": [
        {
          "output_type": "execute_result",
          "data": {
            "text/plain": [
              "array([7, 8])"
            ]
          },
          "metadata": {},
          "execution_count": 39
        }
      ]
    },
    {
      "cell_type": "code",
      "source": [
        "a[1:3]      # 1 Row ~ 2Row의 전체"
      ],
      "metadata": {
        "colab": {
          "base_uri": "https://localhost:8080/"
        },
        "id": "SyohZzli7ctg",
        "outputId": "213e32c5-c29f-4580-82da-b5832c8251cc"
      },
      "execution_count": 40,
      "outputs": [
        {
          "output_type": "execute_result",
          "data": {
            "text/plain": [
              "array([[ 6,  7,  8,  9, 10]])"
            ]
          },
          "metadata": {},
          "execution_count": 40
        }
      ]
    },
    {
      "cell_type": "code",
      "source": [
        "test_example = np.array([[1,2,5,8],[1,2,5,8],[1,2,5,8],[1,2,5,8]], int)\n",
        "test_example"
      ],
      "metadata": {
        "colab": {
          "base_uri": "https://localhost:8080/"
        },
        "id": "vp13_xrL7h5Z",
        "outputId": "ea23b8f6-90a1-4e1f-e40c-f9424d05ca0a"
      },
      "execution_count": 41,
      "outputs": [
        {
          "output_type": "execute_result",
          "data": {
            "text/plain": [
              "array([[1, 2, 5, 8],\n",
              "       [1, 2, 5, 8],\n",
              "       [1, 2, 5, 8],\n",
              "       [1, 2, 5, 8]])"
            ]
          },
          "metadata": {},
          "execution_count": 41
        }
      ]
    },
    {
      "cell_type": "code",
      "source": [
        "test_example[:2,:]"
      ],
      "metadata": {
        "colab": {
          "base_uri": "https://localhost:8080/"
        },
        "id": "3GSScUGz7sRn",
        "outputId": "e0fb9b5d-556c-4d6c-d9ad-6326175a00bc"
      },
      "execution_count": 42,
      "outputs": [
        {
          "output_type": "execute_result",
          "data": {
            "text/plain": [
              "array([[1, 2, 5, 8],\n",
              "       [1, 2, 5, 8]])"
            ]
          },
          "metadata": {},
          "execution_count": 42
        }
      ]
    },
    {
      "cell_type": "code",
      "source": [
        "test_example = np.array([[1,2,3,4,5],[6,7,8,9,10]],int)\n",
        "test_example"
      ],
      "metadata": {
        "colab": {
          "base_uri": "https://localhost:8080/"
        },
        "id": "oxVYIW6B7vEl",
        "outputId": "519ac5e3-01a5-4421-bba4-e3b6a4ee64fa"
      },
      "execution_count": 43,
      "outputs": [
        {
          "output_type": "execute_result",
          "data": {
            "text/plain": [
              "array([[ 1,  2,  3,  4,  5],\n",
              "       [ 6,  7,  8,  9, 10]])"
            ]
          },
          "metadata": {},
          "execution_count": 43
        }
      ]
    },
    {
      "cell_type": "code",
      "source": [
        "test_example[:,2:]  # 전체 Row의 2열 이상"
      ],
      "metadata": {
        "colab": {
          "base_uri": "https://localhost:8080/"
        },
        "id": "iubjD0A-73sI",
        "outputId": "13ec9a0c-4ee0-4b7b-e4af-52be20b2288f"
      },
      "execution_count": 44,
      "outputs": [
        {
          "output_type": "execute_result",
          "data": {
            "text/plain": [
              "array([[ 3,  4,  5],\n",
              "       [ 8,  9, 10]])"
            ]
          },
          "metadata": {},
          "execution_count": 44
        }
      ]
    },
    {
      "cell_type": "code",
      "source": [
        "test_example[1,1:3] # 1 Row의 1열 ~ 2열"
      ],
      "metadata": {
        "colab": {
          "base_uri": "https://localhost:8080/"
        },
        "id": "ybpc9ftK74kE",
        "outputId": "3017ea95-795a-4b93-8907-00104cda6fc7"
      },
      "execution_count": 45,
      "outputs": [
        {
          "output_type": "execute_result",
          "data": {
            "text/plain": [
              "array([7, 8])"
            ]
          },
          "metadata": {},
          "execution_count": 45
        }
      ]
    },
    {
      "cell_type": "code",
      "source": [
        "test_example[1:3]   # 1Row ~ 2Row의 전체"
      ],
      "metadata": {
        "colab": {
          "base_uri": "https://localhost:8080/"
        },
        "id": "zcM4yohD8FQc",
        "outputId": "68bd1ce3-ad48-48a1-eca9-61ba679ec73f"
      },
      "execution_count": 46,
      "outputs": [
        {
          "output_type": "execute_result",
          "data": {
            "text/plain": [
              "array([[ 6,  7,  8,  9, 10]])"
            ]
          },
          "metadata": {},
          "execution_count": 46
        }
      ]
    },
    {
      "cell_type": "markdown",
      "source": [
        "###4\\. Creation Function"
      ],
      "metadata": {
        "id": "BD1HG9pN8NgQ"
      }
    },
    {
      "cell_type": "code",
      "source": [
        "np.arange(30)   # range: List의 range와 같은 효과, integer로 0부터 29까지 배열 추출"
      ],
      "metadata": {
        "colab": {
          "base_uri": "https://localhost:8080/"
        },
        "id": "2p1RgZE38NBt",
        "outputId": "463622a5-5818-4bd9-9f4e-65d329577456"
      },
      "execution_count": 47,
      "outputs": [
        {
          "output_type": "execute_result",
          "data": {
            "text/plain": [
              "array([ 0,  1,  2,  3,  4,  5,  6,  7,  8,  9, 10, 11, 12, 13, 14, 15, 16,\n",
              "       17, 18, 19, 20, 21, 22, 23, 24, 25, 26, 27, 28, 29])"
            ]
          },
          "metadata": {},
          "execution_count": 47
        }
      ]
    },
    {
      "cell_type": "code",
      "source": [
        "np.arange(0, 5, 0.5)    #Floating point도 표시 가능함"
      ],
      "metadata": {
        "colab": {
          "base_uri": "https://localhost:8080/"
        },
        "id": "ltFAxy2M8lPu",
        "outputId": "16451e89-cd15-4227-c071-7cd6b70cd9ca"
      },
      "execution_count": 48,
      "outputs": [
        {
          "output_type": "execute_result",
          "data": {
            "text/plain": [
              "array([0. , 0.5, 1. , 1.5, 2. , 2.5, 3. , 3.5, 4. , 4.5])"
            ]
          },
          "metadata": {},
          "execution_count": 48
        }
      ]
    },
    {
      "cell_type": "code",
      "source": [
        "np.arange(30).reshape(5,6)"
      ],
      "metadata": {
        "colab": {
          "base_uri": "https://localhost:8080/"
        },
        "id": "GRd_yw4p8rVS",
        "outputId": "fc8f8445-5f15-4fad-c46a-9bc293825e1e"
      },
      "execution_count": 49,
      "outputs": [
        {
          "output_type": "execute_result",
          "data": {
            "text/plain": [
              "array([[ 0,  1,  2,  3,  4,  5],\n",
              "       [ 6,  7,  8,  9, 10, 11],\n",
              "       [12, 13, 14, 15, 16, 17],\n",
              "       [18, 19, 20, 21, 22, 23],\n",
              "       [24, 25, 26, 27, 28, 29]])"
            ]
          },
          "metadata": {},
          "execution_count": 49
        }
      ]
    },
    {
      "cell_type": "markdown",
      "source": [
        "zeros – 0으로 가득찬 ndarray 생성"
      ],
      "metadata": {
        "id": "0GoNJ9Th85g9"
      }
    },
    {
      "cell_type": "code",
      "source": [
        "np.zeros(shape=(10,), dtype=np.int8)    # 10 - Zero Vector 생성"
      ],
      "metadata": {
        "colab": {
          "base_uri": "https://localhost:8080/"
        },
        "id": "xYvUSOWt8v2Q",
        "outputId": "676ab42c-7a94-46fa-915d-33105e2b65c5"
      },
      "execution_count": 50,
      "outputs": [
        {
          "output_type": "execute_result",
          "data": {
            "text/plain": [
              "array([0, 0, 0, 0, 0, 0, 0, 0, 0, 0], dtype=int8)"
            ]
          },
          "metadata": {},
          "execution_count": 50
        }
      ]
    },
    {
      "cell_type": "code",
      "source": [
        "np.zeros((2,5)) # 2 by 5 - zero matrix 생성"
      ],
      "metadata": {
        "colab": {
          "base_uri": "https://localhost:8080/"
        },
        "id": "0uLNJVDL9Bvs",
        "outputId": "1d878c94-09ca-4d7c-e864-119e937308ff"
      },
      "execution_count": 51,
      "outputs": [
        {
          "output_type": "execute_result",
          "data": {
            "text/plain": [
              "array([[0., 0., 0., 0., 0.],\n",
              "       [0., 0., 0., 0., 0.]])"
            ]
          },
          "metadata": {},
          "execution_count": 51
        }
      ]
    },
    {
      "cell_type": "markdown",
      "source": [
        "ones – 1로 가득찬 ndarrary 생성\n",
        "np.ones(shape, dtype, order)"
      ],
      "metadata": {
        "id": "cXhOKk929lUK"
      }
    },
    {
      "cell_type": "code",
      "source": [
        "np.ones(shape=(10,), dtype=np.int8)"
      ],
      "metadata": {
        "colab": {
          "base_uri": "https://localhost:8080/"
        },
        "id": "pWYrwcCJ9Io-",
        "outputId": "b13e9228-5ec3-41da-e22c-f8597b307d37"
      },
      "execution_count": 52,
      "outputs": [
        {
          "output_type": "execute_result",
          "data": {
            "text/plain": [
              "array([1, 1, 1, 1, 1, 1, 1, 1, 1, 1], dtype=int8)"
            ]
          },
          "metadata": {},
          "execution_count": 52
        }
      ]
    },
    {
      "cell_type": "code",
      "source": [
        "np.ones((2,5))"
      ],
      "metadata": {
        "colab": {
          "base_uri": "https://localhost:8080/"
        },
        "id": "P4eAYoV19Ozo",
        "outputId": "f02c8ae0-6a5e-4f02-928d-153a7782b283"
      },
      "execution_count": 53,
      "outputs": [
        {
          "output_type": "execute_result",
          "data": {
            "text/plain": [
              "array([[1., 1., 1., 1., 1.],\n",
              "       [1., 1., 1., 1., 1.]])"
            ]
          },
          "metadata": {},
          "execution_count": 53
        }
      ]
    },
    {
      "cell_type": "markdown",
      "source": [
        "empty – shape만 주어지고 비어있는 ndarray 생성\n",
        "(memory initialization 이 되지 않음)"
      ],
      "metadata": {
        "id": "cKvngf_V9iPZ"
      }
    },
    {
      "cell_type": "code",
      "source": [
        "np.empty(shape=(10,),dtype=np.int8)"
      ],
      "metadata": {
        "colab": {
          "base_uri": "https://localhost:8080/"
        },
        "id": "-bD0GZPt9Q1A",
        "outputId": "49918f70-0df7-46d5-af10-60c6cc7f003f"
      },
      "execution_count": 54,
      "outputs": [
        {
          "output_type": "execute_result",
          "data": {
            "text/plain": [
              "array([1, 1, 1, 1, 1, 1, 1, 1, 1, 1], dtype=int8)"
            ]
          },
          "metadata": {},
          "execution_count": 54
        }
      ]
    },
    {
      "cell_type": "code",
      "source": [
        "np.empty((3,5))"
      ],
      "metadata": {
        "colab": {
          "base_uri": "https://localhost:8080/"
        },
        "id": "5-apQNCD9bzc",
        "outputId": "2adee224-b7ec-4bb1-c7ce-8e406e894d10"
      },
      "execution_count": 55,
      "outputs": [
        {
          "output_type": "execute_result",
          "data": {
            "text/plain": [
              "array([[4.65971943e-310, 1.06099790e-312, 1.01855798e-312,\n",
              "        9.54898106e-313, 1.10343781e-312],\n",
              "       [1.01855798e-312, 1.23075756e-312, 1.08221785e-312,\n",
              "        1.12465777e-312, 9.76118064e-313],\n",
              "       [1.08221785e-312, 1.01855798e-312, 1.20953760e-312,\n",
              "        4.44659081e-322, 0.00000000e+000]])"
            ]
          },
          "metadata": {},
          "execution_count": 55
        }
      ]
    },
    {
      "cell_type": "markdown",
      "source": [
        "기존 ndarray의 shape 크기 만큼 1, 0 또는 empty array를 반환\n"
      ],
      "metadata": {
        "id": "LyanDLNW9q5V"
      }
    },
    {
      "cell_type": "code",
      "source": [
        "test_matrix = np.arange(30).reshape(5,6)\n",
        "np.ones_like(test_matrix)"
      ],
      "metadata": {
        "colab": {
          "base_uri": "https://localhost:8080/"
        },
        "id": "QhZhcwui9ftI",
        "outputId": "12d8821e-d580-44ae-9618-43b1e0c1bea9"
      },
      "execution_count": 56,
      "outputs": [
        {
          "output_type": "execute_result",
          "data": {
            "text/plain": [
              "array([[1, 1, 1, 1, 1, 1],\n",
              "       [1, 1, 1, 1, 1, 1],\n",
              "       [1, 1, 1, 1, 1, 1],\n",
              "       [1, 1, 1, 1, 1, 1],\n",
              "       [1, 1, 1, 1, 1, 1]])"
            ]
          },
          "metadata": {},
          "execution_count": 56
        }
      ]
    },
    {
      "cell_type": "code",
      "source": [
        "np.empty_like(test_matrix)"
      ],
      "metadata": {
        "colab": {
          "base_uri": "https://localhost:8080/"
        },
        "id": "KiZkx7T493yc",
        "outputId": "6f8790eb-bf23-481d-8653-81d8fb1e453a"
      },
      "execution_count": 57,
      "outputs": [
        {
          "output_type": "execute_result",
          "data": {
            "text/plain": [
              "array([[94313775315520,              0,              0,              0,\n",
              "                     0,              0],\n",
              "       [             0,              0,              0,              0,\n",
              "                     0,              0],\n",
              "       [             0,              0,              0,              0,\n",
              "                     0,              0],\n",
              "       [             0,              0,              0,              0,\n",
              "                     0,              0],\n",
              "       [             0,              0,              0,              0,\n",
              "                     0,              0]])"
            ]
          },
          "metadata": {},
          "execution_count": 57
        }
      ]
    },
    {
      "cell_type": "code",
      "source": [
        "np.zeros_like(test_matrix)"
      ],
      "metadata": {
        "colab": {
          "base_uri": "https://localhost:8080/"
        },
        "id": "reZcIlSG96pw",
        "outputId": "79923b22-d2ca-4ef7-e2b4-201d6cebafae"
      },
      "execution_count": 58,
      "outputs": [
        {
          "output_type": "execute_result",
          "data": {
            "text/plain": [
              "array([[0, 0, 0, 0, 0, 0],\n",
              "       [0, 0, 0, 0, 0, 0],\n",
              "       [0, 0, 0, 0, 0, 0],\n",
              "       [0, 0, 0, 0, 0, 0],\n",
              "       [0, 0, 0, 0, 0, 0]])"
            ]
          },
          "metadata": {},
          "execution_count": 58
        }
      ]
    },
    {
      "cell_type": "markdown",
      "source": [
        "identity\n",
        "- 단위 행렬(i 행렬)을 생성함"
      ],
      "metadata": {
        "id": "hYrZVbTX9-Lb"
      }
    },
    {
      "cell_type": "code",
      "source": [
        "np.identity(n=3, dtype=np.int8)"
      ],
      "metadata": {
        "colab": {
          "base_uri": "https://localhost:8080/"
        },
        "id": "dflNEJGd98Wz",
        "outputId": "dbc557a2-7faf-4be6-97f5-4691ee2ecc3e"
      },
      "execution_count": 59,
      "outputs": [
        {
          "output_type": "execute_result",
          "data": {
            "text/plain": [
              "array([[1, 0, 0],\n",
              "       [0, 1, 0],\n",
              "       [0, 0, 1]], dtype=int8)"
            ]
          },
          "metadata": {},
          "execution_count": 59
        }
      ]
    },
    {
      "cell_type": "code",
      "source": [
        "np.identity(5)"
      ],
      "metadata": {
        "colab": {
          "base_uri": "https://localhost:8080/"
        },
        "id": "s0tZECa9-Cqn",
        "outputId": "ae4861fe-b8df-4820-e2d0-e12021ce5106"
      },
      "execution_count": 60,
      "outputs": [
        {
          "output_type": "execute_result",
          "data": {
            "text/plain": [
              "array([[1., 0., 0., 0., 0.],\n",
              "       [0., 1., 0., 0., 0.],\n",
              "       [0., 0., 1., 0., 0.],\n",
              "       [0., 0., 0., 1., 0.],\n",
              "       [0., 0., 0., 0., 1.]])"
            ]
          },
          "metadata": {},
          "execution_count": 60
        }
      ]
    },
    {
      "cell_type": "markdown",
      "source": [
        "eye\n",
        "- 대각선인 1인 행렬, k값의 시작 index의 변경이 가능"
      ],
      "metadata": {
        "id": "8UaoAwBM-IRO"
      }
    },
    {
      "cell_type": "code",
      "source": [
        "np.eye(N=3, M=5, dtype=np.int8)"
      ],
      "metadata": {
        "colab": {
          "base_uri": "https://localhost:8080/"
        },
        "id": "ZnXCNEie-H0Z",
        "outputId": "77c99c87-e22e-4cbe-8d9f-ac247ba7a399"
      },
      "execution_count": 61,
      "outputs": [
        {
          "output_type": "execute_result",
          "data": {
            "text/plain": [
              "array([[1, 0, 0, 0, 0],\n",
              "       [0, 1, 0, 0, 0],\n",
              "       [0, 0, 1, 0, 0]], dtype=int8)"
            ]
          },
          "metadata": {},
          "execution_count": 61
        }
      ]
    },
    {
      "cell_type": "code",
      "source": [
        "np.eye(3)"
      ],
      "metadata": {
        "colab": {
          "base_uri": "https://localhost:8080/"
        },
        "id": "WKyFe8X9-Mf3",
        "outputId": "de06d138-ec03-439a-d456-bc4b5d48f8d0"
      },
      "execution_count": 62,
      "outputs": [
        {
          "output_type": "execute_result",
          "data": {
            "text/plain": [
              "array([[1., 0., 0.],\n",
              "       [0., 1., 0.],\n",
              "       [0., 0., 1.]])"
            ]
          },
          "metadata": {},
          "execution_count": 62
        }
      ]
    },
    {
      "cell_type": "code",
      "source": [
        "np.eye(3,5,k=2)     # k : start index"
      ],
      "metadata": {
        "colab": {
          "base_uri": "https://localhost:8080/"
        },
        "id": "GECOy8CF-OF2",
        "outputId": "c63945f0-a0ec-4152-ebdb-be7a882fe287"
      },
      "execution_count": 63,
      "outputs": [
        {
          "output_type": "execute_result",
          "data": {
            "text/plain": [
              "array([[0., 0., 1., 0., 0.],\n",
              "       [0., 0., 0., 1., 0.],\n",
              "       [0., 0., 0., 0., 1.]])"
            ]
          },
          "metadata": {},
          "execution_count": 63
        }
      ]
    },
    {
      "cell_type": "markdown",
      "source": [
        "diag\n",
        "- 대각 행렬의 값을 추출함"
      ],
      "metadata": {
        "id": "jwz1GOTi-W_c"
      }
    },
    {
      "cell_type": "code",
      "source": [
        "matrix = np.arange(9).reshape(3,3)\n",
        "matrix"
      ],
      "metadata": {
        "colab": {
          "base_uri": "https://localhost:8080/"
        },
        "id": "9m-ERL39-XVm",
        "outputId": "443052a3-2cdb-41cf-df3c-ca49217c2e7b"
      },
      "execution_count": 64,
      "outputs": [
        {
          "output_type": "execute_result",
          "data": {
            "text/plain": [
              "array([[0, 1, 2],\n",
              "       [3, 4, 5],\n",
              "       [6, 7, 8]])"
            ]
          },
          "metadata": {},
          "execution_count": 64
        }
      ]
    },
    {
      "cell_type": "code",
      "source": [
        "np.diag(matrix)"
      ],
      "metadata": {
        "colab": {
          "base_uri": "https://localhost:8080/"
        },
        "id": "_33kkgzN-p1I",
        "outputId": "7304ebae-13b6-474a-feff-0e6eafc5958b"
      },
      "execution_count": 65,
      "outputs": [
        {
          "output_type": "execute_result",
          "data": {
            "text/plain": [
              "array([0, 4, 8])"
            ]
          },
          "metadata": {},
          "execution_count": 65
        }
      ]
    },
    {
      "cell_type": "code",
      "source": [
        "np.diag(matrix, k=1)    # k : start index"
      ],
      "metadata": {
        "colab": {
          "base_uri": "https://localhost:8080/"
        },
        "id": "Wmqr5J0x-jRI",
        "outputId": "b48e978d-43a5-471a-ec40-89971362dcc1"
      },
      "execution_count": 66,
      "outputs": [
        {
          "output_type": "execute_result",
          "data": {
            "text/plain": [
              "array([1, 5])"
            ]
          },
          "metadata": {},
          "execution_count": 66
        }
      ]
    },
    {
      "cell_type": "markdown",
      "source": [
        "random sampling \n",
        "- 데이터 분포에 따른 sampling으로 array를 생성"
      ],
      "metadata": {
        "id": "nq_Ak-zI-uXu"
      }
    },
    {
      "cell_type": "code",
      "source": [
        "np.random.uniform(0,1,10).reshape(2,5)  # 균등분포"
      ],
      "metadata": {
        "colab": {
          "base_uri": "https://localhost:8080/"
        },
        "id": "XRHab1Ca-vTf",
        "outputId": "0e3f0123-32e8-4260-80e1-6067c1a31091"
      },
      "execution_count": 67,
      "outputs": [
        {
          "output_type": "execute_result",
          "data": {
            "text/plain": [
              "array([[0.46944465, 0.59792381, 0.96241546, 0.14695337, 0.07853764],\n",
              "       [0.68451141, 0.63007349, 0.09461761, 0.55226687, 0.95967179]])"
            ]
          },
          "metadata": {},
          "execution_count": 67
        }
      ]
    },
    {
      "cell_type": "code",
      "source": [
        "np.random.normal(0,1,10).reshape(2,5)   # 정규분포"
      ],
      "metadata": {
        "colab": {
          "base_uri": "https://localhost:8080/"
        },
        "id": "Z5GH95kw-1RP",
        "outputId": "5adf6600-f7c6-4d93-b087-a7d33192dc2b"
      },
      "execution_count": 68,
      "outputs": [
        {
          "output_type": "execute_result",
          "data": {
            "text/plain": [
              "array([[ 0.45000876,  0.43361923,  0.68809637, -1.47207233, -0.06337853],\n",
              "       [ 0.13325563, -3.35278347, -1.31210487,  0.63090029, -0.79061865]])"
            ]
          },
          "metadata": {},
          "execution_count": 68
        }
      ]
    },
    {
      "cell_type": "markdown",
      "source": [
        "###5\\. Operation Functions"
      ],
      "metadata": {
        "id": "KXcwvnVQ_Pw6"
      }
    },
    {
      "cell_type": "markdown",
      "source": [
        "sum\n",
        "- ndarray의 element들 간의 합을 구함, list의 sum 기능과 동일"
      ],
      "metadata": {
        "id": "nVaEPym1_jmh"
      }
    },
    {
      "cell_type": "code",
      "source": [
        "test_array = np.arange(1,11)\n",
        "test_array"
      ],
      "metadata": {
        "colab": {
          "base_uri": "https://localhost:8080/"
        },
        "id": "d5LVRQOW_ST8",
        "outputId": "07775f11-b364-44ed-ee93-18ae4cef956f"
      },
      "execution_count": 69,
      "outputs": [
        {
          "output_type": "execute_result",
          "data": {
            "text/plain": [
              "array([ 1,  2,  3,  4,  5,  6,  7,  8,  9, 10])"
            ]
          },
          "metadata": {},
          "execution_count": 69
        }
      ]
    },
    {
      "cell_type": "code",
      "source": [
        "test_array.sum(dtype=np.float)"
      ],
      "metadata": {
        "colab": {
          "base_uri": "https://localhost:8080/"
        },
        "id": "a3umYrsf_l4c",
        "outputId": "ba12d7c4-6239-4fb9-dab6-eae68d3e6df4"
      },
      "execution_count": 70,
      "outputs": [
        {
          "output_type": "stream",
          "name": "stderr",
          "text": [
            "/usr/local/lib/python3.7/dist-packages/ipykernel_launcher.py:1: DeprecationWarning: `np.float` is a deprecated alias for the builtin `float`. To silence this warning, use `float` by itself. Doing this will not modify any behavior and is safe. If you specifically wanted the numpy scalar type, use `np.float64` here.\n",
            "Deprecated in NumPy 1.20; for more details and guidance: https://numpy.org/devdocs/release/1.20.0-notes.html#deprecations\n",
            "  \"\"\"Entry point for launching an IPython kernel.\n"
          ]
        },
        {
          "output_type": "execute_result",
          "data": {
            "text/plain": [
              "55.0"
            ]
          },
          "metadata": {},
          "execution_count": 70
        }
      ]
    },
    {
      "cell_type": "markdown",
      "source": [
        "axis\n",
        "- 모든 operation function을 실행할 때, 기준이 되는 dimension 축"
      ],
      "metadata": {
        "id": "8TVnk5aH_r_X"
      }
    },
    {
      "cell_type": "code",
      "source": [
        "test_array = np.arange(1,13).reshape(3,4)\n",
        "test_array"
      ],
      "metadata": {
        "colab": {
          "base_uri": "https://localhost:8080/"
        },
        "id": "Nbhabe7L_rb3",
        "outputId": "5cf1465e-6093-4e2e-f5bc-4fce98e42133"
      },
      "execution_count": 71,
      "outputs": [
        {
          "output_type": "execute_result",
          "data": {
            "text/plain": [
              "array([[ 1,  2,  3,  4],\n",
              "       [ 5,  6,  7,  8],\n",
              "       [ 9, 10, 11, 12]])"
            ]
          },
          "metadata": {},
          "execution_count": 71
        }
      ]
    },
    {
      "cell_type": "code",
      "source": [
        "test_array.sum(axis=1), test_array.sum(axis=0)"
      ],
      "metadata": {
        "colab": {
          "base_uri": "https://localhost:8080/"
        },
        "id": "LYOInEBN_yXG",
        "outputId": "b2033991-7466-4af5-c46e-e4103807ffba"
      },
      "execution_count": 72,
      "outputs": [
        {
          "output_type": "execute_result",
          "data": {
            "text/plain": [
              "(array([10, 26, 42]), array([15, 18, 21, 24]))"
            ]
          },
          "metadata": {},
          "execution_count": 72
        }
      ]
    },
    {
      "cell_type": "code",
      "source": [
        "third_order_tensor = np.array([test_array,test_array,test_array])\n",
        "third_order_tensor"
      ],
      "metadata": {
        "colab": {
          "base_uri": "https://localhost:8080/"
        },
        "id": "QHD2tA_u_29V",
        "outputId": "1050985b-b783-43dc-d8c9-0e44f1541ac9"
      },
      "execution_count": 73,
      "outputs": [
        {
          "output_type": "execute_result",
          "data": {
            "text/plain": [
              "array([[[ 1,  2,  3,  4],\n",
              "        [ 5,  6,  7,  8],\n",
              "        [ 9, 10, 11, 12]],\n",
              "\n",
              "       [[ 1,  2,  3,  4],\n",
              "        [ 5,  6,  7,  8],\n",
              "        [ 9, 10, 11, 12]],\n",
              "\n",
              "       [[ 1,  2,  3,  4],\n",
              "        [ 5,  6,  7,  8],\n",
              "        [ 9, 10, 11, 12]]])"
            ]
          },
          "metadata": {},
          "execution_count": 73
        }
      ]
    },
    {
      "cell_type": "code",
      "source": [
        "third_order_tensor.sum(axis=2)"
      ],
      "metadata": {
        "colab": {
          "base_uri": "https://localhost:8080/"
        },
        "id": "hjEc675jACaL",
        "outputId": "117b3d63-c651-4bac-f32e-7f005a5bada6"
      },
      "execution_count": 74,
      "outputs": [
        {
          "output_type": "execute_result",
          "data": {
            "text/plain": [
              "array([[10, 26, 42],\n",
              "       [10, 26, 42],\n",
              "       [10, 26, 42]])"
            ]
          },
          "metadata": {},
          "execution_count": 74
        }
      ]
    },
    {
      "cell_type": "code",
      "source": [
        "third_order_tensor.sum(axis=1)"
      ],
      "metadata": {
        "colab": {
          "base_uri": "https://localhost:8080/"
        },
        "id": "7aUtv8IBAH8p",
        "outputId": "df953f76-c70b-424f-8722-aed59f0d3543"
      },
      "execution_count": 75,
      "outputs": [
        {
          "output_type": "execute_result",
          "data": {
            "text/plain": [
              "array([[15, 18, 21, 24],\n",
              "       [15, 18, 21, 24],\n",
              "       [15, 18, 21, 24]])"
            ]
          },
          "metadata": {},
          "execution_count": 75
        }
      ]
    },
    {
      "cell_type": "code",
      "source": [
        "third_order_tensor.sum(axis=0)"
      ],
      "metadata": {
        "colab": {
          "base_uri": "https://localhost:8080/"
        },
        "id": "-VeNoztmAIxv",
        "outputId": "7d381925-0caf-4080-8cb8-cf76c91dcf88"
      },
      "execution_count": 76,
      "outputs": [
        {
          "output_type": "execute_result",
          "data": {
            "text/plain": [
              "array([[ 3,  6,  9, 12],\n",
              "       [15, 18, 21, 24],\n",
              "       [27, 30, 33, 36]])"
            ]
          },
          "metadata": {},
          "execution_count": 76
        }
      ]
    },
    {
      "cell_type": "markdown",
      "source": [
        "mean & std\n",
        "- ndarray의 element들 간의 평균 또는 표준 편차를 반환"
      ],
      "metadata": {
        "id": "zHvZP1MvANEL"
      }
    },
    {
      "cell_type": "code",
      "source": [
        "test_array = np.arange(1,13).reshape(3,4)\n",
        "test_array"
      ],
      "metadata": {
        "colab": {
          "base_uri": "https://localhost:8080/"
        },
        "id": "thRNlfn1ANoB",
        "outputId": "a5604473-e4be-4e1c-80be-4e2174493649"
      },
      "execution_count": 77,
      "outputs": [
        {
          "output_type": "execute_result",
          "data": {
            "text/plain": [
              "array([[ 1,  2,  3,  4],\n",
              "       [ 5,  6,  7,  8],\n",
              "       [ 9, 10, 11, 12]])"
            ]
          },
          "metadata": {},
          "execution_count": 77
        }
      ]
    },
    {
      "cell_type": "code",
      "source": [
        "test_array.mean()"
      ],
      "metadata": {
        "colab": {
          "base_uri": "https://localhost:8080/"
        },
        "id": "jK9DtvaEAT4V",
        "outputId": "19d9cbe8-6377-4717-b52a-855ade954c0a"
      },
      "execution_count": 78,
      "outputs": [
        {
          "output_type": "execute_result",
          "data": {
            "text/plain": [
              "6.5"
            ]
          },
          "metadata": {},
          "execution_count": 78
        }
      ]
    },
    {
      "cell_type": "code",
      "source": [
        "test_array.mean(axis=0)"
      ],
      "metadata": {
        "colab": {
          "base_uri": "https://localhost:8080/"
        },
        "id": "uSPMA4_CAbRB",
        "outputId": "d0b70c5e-0a48-449e-8a4f-11912b72927c"
      },
      "execution_count": 79,
      "outputs": [
        {
          "output_type": "execute_result",
          "data": {
            "text/plain": [
              "array([5., 6., 7., 8.])"
            ]
          },
          "metadata": {},
          "execution_count": 79
        }
      ]
    },
    {
      "cell_type": "code",
      "source": [
        "test_array.std()"
      ],
      "metadata": {
        "colab": {
          "base_uri": "https://localhost:8080/"
        },
        "id": "_TUswsgSAdww",
        "outputId": "41fa7257-7192-4bd1-dccc-1aba6db0866f"
      },
      "execution_count": 80,
      "outputs": [
        {
          "output_type": "execute_result",
          "data": {
            "text/plain": [
              "3.452052529534663"
            ]
          },
          "metadata": {},
          "execution_count": 80
        }
      ]
    },
    {
      "cell_type": "code",
      "source": [
        "test_array.std(axis=0)"
      ],
      "metadata": {
        "colab": {
          "base_uri": "https://localhost:8080/"
        },
        "id": "C99IWH5lAfQ5",
        "outputId": "ad7409b3-525a-4723-df64-f889f3b31229"
      },
      "execution_count": 81,
      "outputs": [
        {
          "output_type": "execute_result",
          "data": {
            "text/plain": [
              "array([3.26598632, 3.26598632, 3.26598632, 3.26598632])"
            ]
          },
          "metadata": {},
          "execution_count": 81
        }
      ]
    },
    {
      "cell_type": "markdown",
      "source": [
        "Mathematical functions\n",
        "- 그 외에도 다양한 수학 연산자를 제공함\n"
      ],
      "metadata": {
        "id": "5jDQ3W0cAjwe"
      }
    },
    {
      "cell_type": "code",
      "source": [
        "from numpy.random.mtrand import exponential"
      ],
      "metadata": {
        "id": "M4QCt_fwAkIh"
      },
      "execution_count": 82,
      "outputs": []
    },
    {
      "cell_type": "code",
      "source": [
        "np.exp(test_array)"
      ],
      "metadata": {
        "colab": {
          "base_uri": "https://localhost:8080/"
        },
        "id": "NHkRR84hAxoY",
        "outputId": "85f06b44-bd20-416f-e0e4-fc3bc3762680"
      },
      "execution_count": 83,
      "outputs": [
        {
          "output_type": "execute_result",
          "data": {
            "text/plain": [
              "array([[2.71828183e+00, 7.38905610e+00, 2.00855369e+01, 5.45981500e+01],\n",
              "       [1.48413159e+02, 4.03428793e+02, 1.09663316e+03, 2.98095799e+03],\n",
              "       [8.10308393e+03, 2.20264658e+04, 5.98741417e+04, 1.62754791e+05]])"
            ]
          },
          "metadata": {},
          "execution_count": 83
        }
      ]
    },
    {
      "cell_type": "code",
      "source": [
        "np.sqrt(test_array)"
      ],
      "metadata": {
        "colab": {
          "base_uri": "https://localhost:8080/"
        },
        "id": "Iz4a80pOA2bn",
        "outputId": "2f924162-c4b9-43b8-928e-9fe89a0f55b1"
      },
      "execution_count": 84,
      "outputs": [
        {
          "output_type": "execute_result",
          "data": {
            "text/plain": [
              "array([[1.        , 1.41421356, 1.73205081, 2.        ],\n",
              "       [2.23606798, 2.44948974, 2.64575131, 2.82842712],\n",
              "       [3.        , 3.16227766, 3.31662479, 3.46410162]])"
            ]
          },
          "metadata": {},
          "execution_count": 84
        }
      ]
    },
    {
      "cell_type": "markdown",
      "source": [
        "concatenate\n",
        "- Numpy array를 합치는 함수"
      ],
      "metadata": {
        "id": "kGhazr6EA6UB"
      }
    },
    {
      "cell_type": "code",
      "source": [
        "a = np.array([1,2,3])\n",
        "b = np.array([2,3,4])\n",
        "print(a)\n",
        "print(b)\n",
        "np.vstack((a,b))"
      ],
      "metadata": {
        "colab": {
          "base_uri": "https://localhost:8080/"
        },
        "id": "d07C3FLiA4Ru",
        "outputId": "8cdd7ef4-5924-4b64-f0f6-8070edd829b6"
      },
      "execution_count": 85,
      "outputs": [
        {
          "output_type": "stream",
          "name": "stdout",
          "text": [
            "[1 2 3]\n",
            "[2 3 4]\n"
          ]
        },
        {
          "output_type": "execute_result",
          "data": {
            "text/plain": [
              "array([[1, 2, 3],\n",
              "       [2, 3, 4]])"
            ]
          },
          "metadata": {},
          "execution_count": 85
        }
      ]
    },
    {
      "cell_type": "code",
      "source": [
        "a = np.array([[1],[2],[3]])\n",
        "b = np.array([[2],[3],[4]])\n",
        "print(a)\n",
        "print(b)\n",
        "np.hstack((a,b))"
      ],
      "metadata": {
        "colab": {
          "base_uri": "https://localhost:8080/"
        },
        "id": "nPzl4pogBBVq",
        "outputId": "a0c63495-ac30-4abb-abe2-723ebe6d6a2a"
      },
      "execution_count": 86,
      "outputs": [
        {
          "output_type": "stream",
          "name": "stdout",
          "text": [
            "[[1]\n",
            " [2]\n",
            " [3]]\n",
            "[[2]\n",
            " [3]\n",
            " [4]]\n"
          ]
        },
        {
          "output_type": "execute_result",
          "data": {
            "text/plain": [
              "array([[1, 2],\n",
              "       [2, 3],\n",
              "       [3, 4]])"
            ]
          },
          "metadata": {},
          "execution_count": 86
        }
      ]
    },
    {
      "cell_type": "code",
      "source": [
        "a = np.array([[1,2,3]])\n",
        "b = np.array([[2,3,4]])\n",
        "print(a)\n",
        "print(b)\n",
        "np.concatenate((a,b), axis=0)"
      ],
      "metadata": {
        "colab": {
          "base_uri": "https://localhost:8080/"
        },
        "id": "Lw5g8cHWBIkH",
        "outputId": "36965432-d4ff-4508-aba9-6b18272160d0"
      },
      "execution_count": 87,
      "outputs": [
        {
          "output_type": "stream",
          "name": "stdout",
          "text": [
            "[[1 2 3]]\n",
            "[[2 3 4]]\n"
          ]
        },
        {
          "output_type": "execute_result",
          "data": {
            "text/plain": [
              "array([[1, 2, 3],\n",
              "       [2, 3, 4]])"
            ]
          },
          "metadata": {},
          "execution_count": 87
        }
      ]
    },
    {
      "cell_type": "code",
      "source": [
        "a = np.array([[1,2],[3,4]])\n",
        "b = np.array([[5,6]])\n",
        "print(a)\n",
        "print(b)\n",
        "np.concatenate((a,b.T), axis=1) # b.T -> b의 전치행렬"
      ],
      "metadata": {
        "colab": {
          "base_uri": "https://localhost:8080/"
        },
        "id": "uEiB_qtGBTDv",
        "outputId": "a7d2f1f3-51b8-47d0-c804-06047c6e2751"
      },
      "execution_count": 88,
      "outputs": [
        {
          "output_type": "stream",
          "name": "stdout",
          "text": [
            "[[1 2]\n",
            " [3 4]]\n",
            "[[5 6]]\n"
          ]
        },
        {
          "output_type": "execute_result",
          "data": {
            "text/plain": [
              "array([[1, 2, 5],\n",
              "       [3, 4, 6]])"
            ]
          },
          "metadata": {},
          "execution_count": 88
        }
      ]
    },
    {
      "cell_type": "markdown",
      "source": [
        "###6\\. Array operations"
      ],
      "metadata": {
        "id": "fsSRLYMU0FDa"
      }
    },
    {
      "cell_type": "markdown",
      "source": [
        "**Operations b/t arrays**\n",
        "- Numpy는 array간의 기본적인 사칙 연산을 지원함"
      ],
      "metadata": {
        "id": "BZVrfEUO0XoW"
      }
    },
    {
      "cell_type": "code",
      "source": [
        "test_a = np.array([[1,2,3],[4,5,6]], float)\n",
        "test_a"
      ],
      "metadata": {
        "colab": {
          "base_uri": "https://localhost:8080/"
        },
        "id": "lH0jXDfq0UeJ",
        "outputId": "a5c086b6-cf86-48e2-8bcd-2dd93a07d245"
      },
      "execution_count": 89,
      "outputs": [
        {
          "output_type": "execute_result",
          "data": {
            "text/plain": [
              "array([[1., 2., 3.],\n",
              "       [4., 5., 6.]])"
            ]
          },
          "metadata": {},
          "execution_count": 89
        }
      ]
    },
    {
      "cell_type": "code",
      "source": [
        "test_a + test_a     # Matrix + Matrix 연산"
      ],
      "metadata": {
        "colab": {
          "base_uri": "https://localhost:8080/"
        },
        "id": "ggdHKBos0mw9",
        "outputId": "e3574c9a-7b6b-456e-ef51-d643d0429479"
      },
      "execution_count": 90,
      "outputs": [
        {
          "output_type": "execute_result",
          "data": {
            "text/plain": [
              "array([[ 2.,  4.,  6.],\n",
              "       [ 8., 10., 12.]])"
            ]
          },
          "metadata": {},
          "execution_count": 90
        }
      ]
    },
    {
      "cell_type": "code",
      "source": [
        "test_a - test_a     # Matrix - Matrix 연산"
      ],
      "metadata": {
        "colab": {
          "base_uri": "https://localhost:8080/"
        },
        "id": "puDg6D3g0scn",
        "outputId": "4601c19a-05d6-40fa-816e-370896e823ad"
      },
      "execution_count": 91,
      "outputs": [
        {
          "output_type": "execute_result",
          "data": {
            "text/plain": [
              "array([[0., 0., 0.],\n",
              "       [0., 0., 0.]])"
            ]
          },
          "metadata": {},
          "execution_count": 91
        }
      ]
    },
    {
      "cell_type": "code",
      "source": [
        "test_a * test_a     # Matrix * Matrix 연산"
      ],
      "metadata": {
        "colab": {
          "base_uri": "https://localhost:8080/"
        },
        "id": "GhVJmx020wwD",
        "outputId": "6e96e2f9-7ce2-46cb-948e-d8021f28e9fb"
      },
      "execution_count": 92,
      "outputs": [
        {
          "output_type": "execute_result",
          "data": {
            "text/plain": [
              "array([[ 1.,  4.,  9.],\n",
              "       [16., 25., 36.]])"
            ]
          },
          "metadata": {},
          "execution_count": 92
        }
      ]
    },
    {
      "cell_type": "markdown",
      "source": [
        "**Element-wise operations**\n",
        "- Array간 shape이 같을 때 일어나는 연산"
      ],
      "metadata": {
        "id": "tgPl5jNk1Kee"
      }
    },
    {
      "cell_type": "code",
      "source": [
        "matrix_a = np.arange(1,13).reshape(3,4)\n",
        "matrix_a * matrix_a"
      ],
      "metadata": {
        "colab": {
          "base_uri": "https://localhost:8080/"
        },
        "id": "XK0823921Htx",
        "outputId": "6b29a674-c4b6-4ca5-810e-c4575044ac7d"
      },
      "execution_count": 93,
      "outputs": [
        {
          "output_type": "execute_result",
          "data": {
            "text/plain": [
              "array([[  1,   4,   9,  16],\n",
              "       [ 25,  36,  49,  64],\n",
              "       [ 81, 100, 121, 144]])"
            ]
          },
          "metadata": {},
          "execution_count": 93
        }
      ]
    },
    {
      "cell_type": "markdown",
      "source": [
        "**Dot product**\n",
        "- Matrix의 기본 연산\n",
        "- dot 함수 사용"
      ],
      "metadata": {
        "id": "DcCpij2G1j7O"
      }
    },
    {
      "cell_type": "code",
      "source": [
        "test_a = np.arange(1,7).reshape(2,3)\n",
        "test_b = np.arange(7,13).reshape(3,2)\n",
        "print(test_a)"
      ],
      "metadata": {
        "colab": {
          "base_uri": "https://localhost:8080/"
        },
        "id": "aQK8ZVOd1hsA",
        "outputId": "b7e9a557-cfd3-4f7d-d907-29dab4025c0f"
      },
      "execution_count": 94,
      "outputs": [
        {
          "output_type": "stream",
          "name": "stdout",
          "text": [
            "[[1 2 3]\n",
            " [4 5 6]]\n"
          ]
        }
      ]
    },
    {
      "cell_type": "code",
      "source": [
        "print(test_b)"
      ],
      "metadata": {
        "colab": {
          "base_uri": "https://localhost:8080/"
        },
        "id": "vhA3xnxn1-om",
        "outputId": "4c080db1-0bdc-4a47-e4e0-b1cb4798e107"
      },
      "execution_count": 95,
      "outputs": [
        {
          "output_type": "stream",
          "name": "stdout",
          "text": [
            "[[ 7  8]\n",
            " [ 9 10]\n",
            " [11 12]]\n"
          ]
        }
      ]
    },
    {
      "cell_type": "code",
      "source": [
        "test_a.dot(test_b)"
      ],
      "metadata": {
        "colab": {
          "base_uri": "https://localhost:8080/"
        },
        "id": "WDOqsCsI1qct",
        "outputId": "045a4d59-f4ed-445f-a56f-5c74b555ea8d"
      },
      "execution_count": 96,
      "outputs": [
        {
          "output_type": "execute_result",
          "data": {
            "text/plain": [
              "array([[ 58,  64],\n",
              "       [139, 154]])"
            ]
          },
          "metadata": {},
          "execution_count": 96
        }
      ]
    },
    {
      "cell_type": "markdown",
      "source": [
        "**transpose**\n",
        "- transpose 또는 T attribute 사용\n"
      ],
      "metadata": {
        "id": "nc_BAhnn2Ek8"
      }
    },
    {
      "cell_type": "code",
      "source": [
        "test_a = np.arange(1,7).reshape(2,3)\n",
        "test_a"
      ],
      "metadata": {
        "colab": {
          "base_uri": "https://localhost:8080/"
        },
        "id": "kLNCZ8ew1ugO",
        "outputId": "941d9ecb-621c-43b2-cc35-101ec982119d"
      },
      "execution_count": 97,
      "outputs": [
        {
          "output_type": "execute_result",
          "data": {
            "text/plain": [
              "array([[1, 2, 3],\n",
              "       [4, 5, 6]])"
            ]
          },
          "metadata": {},
          "execution_count": 97
        }
      ]
    },
    {
      "cell_type": "code",
      "source": [
        "test_a.transpose()"
      ],
      "metadata": {
        "colab": {
          "base_uri": "https://localhost:8080/"
        },
        "id": "HbSJoMr-2LEQ",
        "outputId": "556fb42c-2924-4773-f6b6-a686ec7992d3"
      },
      "execution_count": 98,
      "outputs": [
        {
          "output_type": "execute_result",
          "data": {
            "text/plain": [
              "array([[1, 4],\n",
              "       [2, 5],\n",
              "       [3, 6]])"
            ]
          },
          "metadata": {},
          "execution_count": 98
        }
      ]
    },
    {
      "cell_type": "code",
      "source": [
        "test_a"
      ],
      "metadata": {
        "colab": {
          "base_uri": "https://localhost:8080/"
        },
        "id": "ZzNpxVM96B5P",
        "outputId": "03fdc2ca-dbfa-400f-9620-924fbb6b80fd"
      },
      "execution_count": 99,
      "outputs": [
        {
          "output_type": "execute_result",
          "data": {
            "text/plain": [
              "array([[1, 2, 3],\n",
              "       [4, 5, 6]])"
            ]
          },
          "metadata": {},
          "execution_count": 99
        }
      ]
    },
    {
      "cell_type": "code",
      "source": [
        "test_a.T"
      ],
      "metadata": {
        "colab": {
          "base_uri": "https://localhost:8080/"
        },
        "id": "H2iyMY9q2uMV",
        "outputId": "a0661b0a-9ad9-4aa6-e26f-b642a7c56fd1"
      },
      "execution_count": 100,
      "outputs": [
        {
          "output_type": "execute_result",
          "data": {
            "text/plain": [
              "array([[1, 4],\n",
              "       [2, 5],\n",
              "       [3, 6]])"
            ]
          },
          "metadata": {},
          "execution_count": 100
        }
      ]
    },
    {
      "cell_type": "code",
      "source": [
        "test_a.T.dot(test_a)"
      ],
      "metadata": {
        "colab": {
          "base_uri": "https://localhost:8080/"
        },
        "id": "IwUGfAZV2rVe",
        "outputId": "b2453701-9310-4906-c6c8-0fe721c5e9ae"
      },
      "execution_count": 101,
      "outputs": [
        {
          "output_type": "execute_result",
          "data": {
            "text/plain": [
              "array([[17, 22, 27],\n",
              "       [22, 29, 36],\n",
              "       [27, 36, 45]])"
            ]
          },
          "metadata": {},
          "execution_count": 101
        }
      ]
    },
    {
      "cell_type": "markdown",
      "source": [
        "**broadcasting**\n",
        "- Shape이 다른 배열 간 연산을 지원하는 기능"
      ],
      "metadata": {
        "id": "nj8kiLr96SJs"
      }
    },
    {
      "cell_type": "code",
      "source": [
        "test_matrix = np.array([[1,2,3],[4,5,6]],float)\n",
        "scalar = 3"
      ],
      "metadata": {
        "id": "5lu-uyJJ6TWZ"
      },
      "execution_count": 102,
      "outputs": []
    },
    {
      "cell_type": "code",
      "source": [
        "test_matrix + scalar    # Matrix - Scalar 덧셈"
      ],
      "metadata": {
        "colab": {
          "base_uri": "https://localhost:8080/"
        },
        "id": "PDTp702K6blv",
        "outputId": "37a85743-a2bf-4168-9ac5-ae7df9bef3dc"
      },
      "execution_count": 103,
      "outputs": [
        {
          "output_type": "execute_result",
          "data": {
            "text/plain": [
              "array([[4., 5., 6.],\n",
              "       [7., 8., 9.]])"
            ]
          },
          "metadata": {},
          "execution_count": 103
        }
      ]
    },
    {
      "cell_type": "code",
      "source": [
        "test_matrix - scalar    # Matrix - Scalar 뺄셈"
      ],
      "metadata": {
        "colab": {
          "base_uri": "https://localhost:8080/"
        },
        "id": "W0Q-0Ggx6wJF",
        "outputId": "a68c846b-7b23-41bd-decd-204160a1c168"
      },
      "execution_count": 104,
      "outputs": [
        {
          "output_type": "execute_result",
          "data": {
            "text/plain": [
              "array([[-2., -1.,  0.],\n",
              "       [ 1.,  2.,  3.]])"
            ]
          },
          "metadata": {},
          "execution_count": 104
        }
      ]
    },
    {
      "cell_type": "code",
      "source": [
        "test_matrix * 5    # Matrix - Scalar 곱셈"
      ],
      "metadata": {
        "colab": {
          "base_uri": "https://localhost:8080/"
        },
        "id": "isJ-PGqR6zDW",
        "outputId": "2700220e-5b56-4810-d63c-6ef712569153"
      },
      "execution_count": 105,
      "outputs": [
        {
          "output_type": "execute_result",
          "data": {
            "text/plain": [
              "array([[ 5., 10., 15.],\n",
              "       [20., 25., 30.]])"
            ]
          },
          "metadata": {},
          "execution_count": 105
        }
      ]
    },
    {
      "cell_type": "code",
      "source": [
        "test_matrix / 5    # Matrix - Scalar 나눗셈"
      ],
      "metadata": {
        "colab": {
          "base_uri": "https://localhost:8080/"
        },
        "id": "ZWnbk0yB6zUG",
        "outputId": "80417b8a-48eb-411f-9df7-d9a7306b3922"
      },
      "execution_count": 106,
      "outputs": [
        {
          "output_type": "execute_result",
          "data": {
            "text/plain": [
              "array([[0.2, 0.4, 0.6],\n",
              "       [0.8, 1. , 1.2]])"
            ]
          },
          "metadata": {},
          "execution_count": 106
        }
      ]
    },
    {
      "cell_type": "code",
      "source": [
        "test_matrix // 0.2   # Matrix - Scalar 몫"
      ],
      "metadata": {
        "colab": {
          "base_uri": "https://localhost:8080/"
        },
        "id": "jFZBhsSY60uO",
        "outputId": "5e5fcda5-4b97-4f65-a6d9-3ab634a2a72a"
      },
      "execution_count": 107,
      "outputs": [
        {
          "output_type": "execute_result",
          "data": {
            "text/plain": [
              "array([[ 4.,  9., 14.],\n",
              "       [19., 24., 29.]])"
            ]
          },
          "metadata": {},
          "execution_count": 107
        }
      ]
    },
    {
      "cell_type": "code",
      "source": [
        "test_matrix ** 2   # Matrix - Scalar 제곱"
      ],
      "metadata": {
        "colab": {
          "base_uri": "https://localhost:8080/"
        },
        "id": "2yz_Ttuw69vK",
        "outputId": "c33f71e2-8f2d-4b5e-f86d-0e2ca08c20cc"
      },
      "execution_count": 108,
      "outputs": [
        {
          "output_type": "execute_result",
          "data": {
            "text/plain": [
              "array([[ 1.,  4.,  9.],\n",
              "       [16., 25., 36.]])"
            ]
          },
          "metadata": {},
          "execution_count": 108
        }
      ]
    },
    {
      "cell_type": "code",
      "source": [
        "test_matrix = np.arange(1,13).reshape(4,3)\n",
        "test_vector = np.arange(10,40,10)"
      ],
      "metadata": {
        "id": "XXQEbbbN7YKc"
      },
      "execution_count": 109,
      "outputs": []
    },
    {
      "cell_type": "code",
      "source": [
        "test_matrix"
      ],
      "metadata": {
        "colab": {
          "base_uri": "https://localhost:8080/"
        },
        "id": "wNCS8sg77h6F",
        "outputId": "f0dc3383-032b-404f-e5df-0651de50f555"
      },
      "execution_count": 110,
      "outputs": [
        {
          "output_type": "execute_result",
          "data": {
            "text/plain": [
              "array([[ 1,  2,  3],\n",
              "       [ 4,  5,  6],\n",
              "       [ 7,  8,  9],\n",
              "       [10, 11, 12]])"
            ]
          },
          "metadata": {},
          "execution_count": 110
        }
      ]
    },
    {
      "cell_type": "code",
      "source": [
        "test_vector"
      ],
      "metadata": {
        "colab": {
          "base_uri": "https://localhost:8080/"
        },
        "id": "ZlmIyA9C7jL4",
        "outputId": "8e6f937b-7f8b-4d0c-ba84-e7e1f2124ed3"
      },
      "execution_count": 111,
      "outputs": [
        {
          "output_type": "execute_result",
          "data": {
            "text/plain": [
              "array([10, 20, 30])"
            ]
          },
          "metadata": {},
          "execution_count": 111
        }
      ]
    },
    {
      "cell_type": "code",
      "source": [
        "test_matrix + test_vector"
      ],
      "metadata": {
        "colab": {
          "base_uri": "https://localhost:8080/"
        },
        "id": "wUAnOcVR7lEh",
        "outputId": "fd4b6955-a5f7-4e42-9e84-5aa413b97960"
      },
      "execution_count": 112,
      "outputs": [
        {
          "output_type": "execute_result",
          "data": {
            "text/plain": [
              "array([[11, 22, 33],\n",
              "       [14, 25, 36],\n",
              "       [17, 28, 39],\n",
              "       [20, 31, 42]])"
            ]
          },
          "metadata": {},
          "execution_count": 112
        }
      ]
    },
    {
      "cell_type": "markdown",
      "source": [
        "**Numpy performance**\n",
        "- 일반적으로 속도는 아래 순  \n",
        "for loop < list comprehension < numpy\n",
        "- 100,000,000 번의 loop이 돌 때 약 약 4배 이상의 성능 차이를 보임\n",
        "- Numpy는 C로 구현되어 있어, 성능을 확보하는 대신\n",
        "- 파이썬의 가장 큰 특징인 dynamic typing을 포기함\n",
        "- 대용량 계산에서는 가장 흔히 사용됨\n",
        "- Concatenate 처럼 계산이 아닌, 할당에서는 연산 속도의 이점이 없음"
      ],
      "metadata": {
        "id": "E-6DbKkDA9M0"
      }
    },
    {
      "cell_type": "code",
      "source": [
        "def sclar_vector_product(scalar, vector):\n",
        "    result = []\n",
        "    for value in vector:\n",
        "        result.append(scalar * value)\n",
        "    return result\n",
        "\n",
        "iternation_max = 100000000\n",
        "vector = list(range(iternation_max))\n",
        "scalar = 2\n",
        "\n",
        "%timeit sclar_vector_product(scalar, vector) # for loop을 이용한 성능\n",
        "%timeit [scalar * value for value in range(iternation_max)] # list comprehension을 이용한 성능\n",
        "%timeit np.arange(iternation_max) * scalar # numpy를 이용한 성능"
      ],
      "metadata": {
        "colab": {
          "base_uri": "https://localhost:8080/"
        },
        "id": "YfZNwgzb7rsO",
        "outputId": "35be8911-c094-416f-bcf8-fdfe54bf64f8"
      },
      "execution_count": 113,
      "outputs": [
        {
          "output_type": "stream",
          "name": "stdout",
          "text": [
            "1 loop, best of 5: 14.4 s per loop\n",
            "1 loop, best of 5: 12.3 s per loop\n",
            "1 loop, best of 5: 273 ms per loop\n"
          ]
        }
      ]
    },
    {
      "cell_type": "markdown",
      "source": [
        "###7\\. Comparisons"
      ],
      "metadata": {
        "id": "b7peMrXLGFY7"
      }
    },
    {
      "cell_type": "markdown",
      "source": [
        "**All & Any**\n",
        "- Array의 데이터 전부(and) 또는 일부(or)가 조건에 만족하는지 반환"
      ],
      "metadata": {
        "id": "u_iimUR_GMA3"
      }
    },
    {
      "cell_type": "code",
      "source": [
        "a = np.arange(10)\n",
        "a"
      ],
      "metadata": {
        "colab": {
          "base_uri": "https://localhost:8080/"
        },
        "id": "yKAml9BDGK3D",
        "outputId": "51a6e9de-9c6e-4c22-f2bf-b418d0901f00"
      },
      "execution_count": 116,
      "outputs": [
        {
          "output_type": "execute_result",
          "data": {
            "text/plain": [
              "array([0, 1, 2, 3, 4, 5, 6, 7, 8, 9])"
            ]
          },
          "metadata": {},
          "execution_count": 116
        }
      ]
    },
    {
      "cell_type": "code",
      "source": [
        "np.any(a > 5), np.any(a < 0)    # any : 하나라도 조건에 만족한다면 true"
      ],
      "metadata": {
        "colab": {
          "base_uri": "https://localhost:8080/"
        },
        "id": "X_K02uP7GK5v",
        "outputId": "87234f4a-2d5d-4b82-d8a3-bb3c173798f4"
      },
      "execution_count": 117,
      "outputs": [
        {
          "output_type": "execute_result",
          "data": {
            "text/plain": [
              "(True, False)"
            ]
          },
          "metadata": {},
          "execution_count": 117
        }
      ]
    },
    {
      "cell_type": "code",
      "source": [
        "np.all(a > 5), np.all(a < 10)   # all : 모두 조건에 만족한다면 true"
      ],
      "metadata": {
        "colab": {
          "base_uri": "https://localhost:8080/"
        },
        "id": "jd6lHudCGK8B",
        "outputId": "f45ebd8a-0b63-4154-a3bb-a63fb55c4c59"
      },
      "execution_count": 118,
      "outputs": [
        {
          "output_type": "execute_result",
          "data": {
            "text/plain": [
              "(False, True)"
            ]
          },
          "metadata": {},
          "execution_count": 118
        }
      ]
    },
    {
      "cell_type": "markdown",
      "source": [
        "**Comparison operation #1**\n",
        "- Numpy는 배열의 크기가 동일 할 때\n",
        "element간 비교의 결과를 Boolean type으로 반환하여 돌려줌"
      ],
      "metadata": {
        "id": "o2o-Fbv9GrMk"
      }
    },
    {
      "cell_type": "code",
      "source": [
        "test_a = np.array([1,3,0],float)\n",
        "test_b = np.array([5,2,1],float)\n",
        "test_a > test_b"
      ],
      "metadata": {
        "colab": {
          "base_uri": "https://localhost:8080/"
        },
        "id": "GPjVM869GK-O",
        "outputId": "9eaddb26-7604-4c51-c88f-03f45f71156a"
      },
      "execution_count": 119,
      "outputs": [
        {
          "output_type": "execute_result",
          "data": {
            "text/plain": [
              "array([False,  True, False])"
            ]
          },
          "metadata": {},
          "execution_count": 119
        }
      ]
    },
    {
      "cell_type": "code",
      "source": [
        "test_a == test_b"
      ],
      "metadata": {
        "colab": {
          "base_uri": "https://localhost:8080/"
        },
        "id": "XJYa97ImGLAs",
        "outputId": "6dbc115e-c26e-4f7a-b270-0cb04700f471"
      },
      "execution_count": 120,
      "outputs": [
        {
          "output_type": "execute_result",
          "data": {
            "text/plain": [
              "array([False, False, False])"
            ]
          },
          "metadata": {},
          "execution_count": 120
        }
      ]
    },
    {
      "cell_type": "code",
      "source": [
        "(test_a > test_b).any() # any : 하나라도 조건에 만족한다면 true"
      ],
      "metadata": {
        "colab": {
          "base_uri": "https://localhost:8080/"
        },
        "id": "TR4GdQTtG4JK",
        "outputId": "559c1ddc-0f3f-4427-ad56-76d47ef6a979"
      },
      "execution_count": 121,
      "outputs": [
        {
          "output_type": "execute_result",
          "data": {
            "text/plain": [
              "True"
            ]
          },
          "metadata": {},
          "execution_count": 121
        }
      ]
    },
    {
      "cell_type": "code",
      "source": [
        "a = np.array([1,3,0], float)\n",
        "np.logical_and(a > 0, a < 3)    # and 조건의 condition"
      ],
      "metadata": {
        "colab": {
          "base_uri": "https://localhost:8080/"
        },
        "id": "Q4BqnHkMG4QO",
        "outputId": "b0e65792-c1b0-40a2-975f-5fbb3aaf8760"
      },
      "execution_count": 122,
      "outputs": [
        {
          "output_type": "execute_result",
          "data": {
            "text/plain": [
              "array([ True, False, False])"
            ]
          },
          "metadata": {},
          "execution_count": 122
        }
      ]
    },
    {
      "cell_type": "code",
      "source": [
        "b = np.array([True, False, True], bool)\n",
        "np.logical_not(b)   # NOT 조건의 condition"
      ],
      "metadata": {
        "colab": {
          "base_uri": "https://localhost:8080/"
        },
        "id": "qBiyW3qgHoAQ",
        "outputId": "1377aa00-5527-41fb-c189-aaaf45179f66"
      },
      "execution_count": 125,
      "outputs": [
        {
          "output_type": "execute_result",
          "data": {
            "text/plain": [
              "array([False,  True, False])"
            ]
          },
          "metadata": {},
          "execution_count": 125
        }
      ]
    },
    {
      "cell_type": "code",
      "source": [
        "c = np.array([False, True, False], bool)\n",
        "np.logical_or(b, c) # OR 조건의 condition"
      ],
      "metadata": {
        "colab": {
          "base_uri": "https://localhost:8080/"
        },
        "id": "y_qrzFmxHH-j",
        "outputId": "b1c28ed3-026b-4bf9-d6f1-34210712cbc7"
      },
      "execution_count": 126,
      "outputs": [
        {
          "output_type": "execute_result",
          "data": {
            "text/plain": [
              "array([ True,  True,  True])"
            ]
          },
          "metadata": {},
          "execution_count": 126
        }
      ]
    },
    {
      "cell_type": "markdown",
      "source": [
        "**np.where**"
      ],
      "metadata": {
        "id": "SPZ36OPmHyur"
      }
    },
    {
      "cell_type": "code",
      "source": [
        "np.where(a > 0, 3, 2)   # where(condition, True, False)"
      ],
      "metadata": {
        "colab": {
          "base_uri": "https://localhost:8080/"
        },
        "id": "jtVo7woJHIK5",
        "outputId": "fe09333e-8808-40a2-f1f6-1d9fa325ca30"
      },
      "execution_count": 127,
      "outputs": [
        {
          "output_type": "execute_result",
          "data": {
            "text/plain": [
              "array([3, 3, 2])"
            ]
          },
          "metadata": {},
          "execution_count": 127
        }
      ]
    },
    {
      "cell_type": "code",
      "source": [
        "a = np.arange(10)\n",
        "a"
      ],
      "metadata": {
        "colab": {
          "base_uri": "https://localhost:8080/"
        },
        "id": "Ai-R5_9GH8bw",
        "outputId": "460155ad-324f-4102-d518-bc2ee4421921"
      },
      "execution_count": 128,
      "outputs": [
        {
          "output_type": "execute_result",
          "data": {
            "text/plain": [
              "array([0, 1, 2, 3, 4, 5, 6, 7, 8, 9])"
            ]
          },
          "metadata": {},
          "execution_count": 128
        }
      ]
    },
    {
      "cell_type": "code",
      "source": [
        "np.where(a > 5)"
      ],
      "metadata": {
        "colab": {
          "base_uri": "https://localhost:8080/"
        },
        "id": "CrLRnCfpIKCI",
        "outputId": "ab268b61-da34-4428-c7ce-189d57e66b09"
      },
      "execution_count": 129,
      "outputs": [
        {
          "output_type": "execute_result",
          "data": {
            "text/plain": [
              "(array([6, 7, 8, 9]),)"
            ]
          },
          "metadata": {},
          "execution_count": 129
        }
      ]
    },
    {
      "cell_type": "code",
      "source": [
        "a = np.array([1, np.NaN, np.Inf],float)\n",
        "np.isnan(a)"
      ],
      "metadata": {
        "colab": {
          "base_uri": "https://localhost:8080/"
        },
        "id": "1pnoEGIuIRYa",
        "outputId": "f7daea0d-7c8c-4bab-968c-1288ac0e661a"
      },
      "execution_count": 130,
      "outputs": [
        {
          "output_type": "execute_result",
          "data": {
            "text/plain": [
              "array([False,  True, False])"
            ]
          },
          "metadata": {},
          "execution_count": 130
        }
      ]
    },
    {
      "cell_type": "code",
      "source": [
        "np.NaN"
      ],
      "metadata": {
        "colab": {
          "base_uri": "https://localhost:8080/"
        },
        "id": "k6kJaHk8IgwY",
        "outputId": "09224e13-e4fc-4cb0-f034-9902e096ff27"
      },
      "execution_count": 131,
      "outputs": [
        {
          "output_type": "execute_result",
          "data": {
            "text/plain": [
              "nan"
            ]
          },
          "metadata": {},
          "execution_count": 131
        }
      ]
    },
    {
      "cell_type": "code",
      "source": [
        "type(np.NaN)"
      ],
      "metadata": {
        "colab": {
          "base_uri": "https://localhost:8080/"
        },
        "id": "FePqYHMLKZRe",
        "outputId": "ba302bd3-dcc8-4027-ecd1-d619402c99bf"
      },
      "execution_count": 133,
      "outputs": [
        {
          "output_type": "execute_result",
          "data": {
            "text/plain": [
              "float"
            ]
          },
          "metadata": {},
          "execution_count": 133
        }
      ]
    },
    {
      "cell_type": "code",
      "source": [
        "np.Inf"
      ],
      "metadata": {
        "colab": {
          "base_uri": "https://localhost:8080/"
        },
        "id": "orVX6CBcIiOB",
        "outputId": "5eefee40-e20a-4fd6-a7bd-af8f6a660c04"
      },
      "execution_count": 132,
      "outputs": [
        {
          "output_type": "execute_result",
          "data": {
            "text/plain": [
              "inf"
            ]
          },
          "metadata": {},
          "execution_count": 132
        }
      ]
    },
    {
      "cell_type": "code",
      "source": [
        "type(np.Inf)"
      ],
      "metadata": {
        "colab": {
          "base_uri": "https://localhost:8080/"
        },
        "id": "Ulg5tLDrKel2",
        "outputId": "79a0c8ab-4894-4c97-8c8d-5982ff3f9099"
      },
      "execution_count": 134,
      "outputs": [
        {
          "output_type": "execute_result",
          "data": {
            "text/plain": [
              "float"
            ]
          },
          "metadata": {},
          "execution_count": 134
        }
      ]
    },
    {
      "cell_type": "markdown",
      "source": [
        "**argmax & argmin**"
      ],
      "metadata": {
        "id": "g1U7h6aYK-u6"
      }
    },
    {
      "cell_type": "code",
      "source": [
        "a = np.array([1,2,4,5,8,78,23,3])\n",
        "np.argmax(a), np.argmin(a)  # array내 최대값 또는 최소값의 index를 반환함"
      ],
      "metadata": {
        "colab": {
          "base_uri": "https://localhost:8080/"
        },
        "id": "SHogSu1jKqeC",
        "outputId": "ffc70418-420a-4561-f4fb-67e46f8c3b4d"
      },
      "execution_count": 137,
      "outputs": [
        {
          "output_type": "execute_result",
          "data": {
            "text/plain": [
              "(5, 0)"
            ]
          },
          "metadata": {},
          "execution_count": 137
        }
      ]
    },
    {
      "cell_type": "code",
      "source": [
        "a = np.array([[1,2,4,7],[9,88,6,45],[9,76,3,4]])\n",
        "np.argmax(a, axis=1), np.argmin(a, axis=0)  # axis 기반 반환"
      ],
      "metadata": {
        "colab": {
          "base_uri": "https://localhost:8080/"
        },
        "id": "hosZelrKLKKJ",
        "outputId": "3ce5e09a-de3a-4a47-f7ba-2c741b904ecf"
      },
      "execution_count": 139,
      "outputs": [
        {
          "output_type": "execute_result",
          "data": {
            "text/plain": [
              "(array([3, 1, 1]), array([0, 0, 2, 2]))"
            ]
          },
          "metadata": {},
          "execution_count": 139
        }
      ]
    },
    {
      "cell_type": "markdown",
      "source": [
        "**Boolean & Fancy Index**"
      ],
      "metadata": {
        "id": "whZnnB8nLe04"
      }
    },
    {
      "cell_type": "markdown",
      "source": [
        "**boolean index**\n",
        "- numpy는 배열은 특정 조건에 따른 값을 배열 형태로 추출 할 수 있음\n",
        "- Comparison operation 함수들도 모두 사용가능"
      ],
      "metadata": {
        "id": "TLxNDRcXLkk4"
      }
    },
    {
      "cell_type": "code",
      "source": [
        "test_array = np.array([1,4,0,2,3,8,9,7],float)\n",
        "test_array > 3"
      ],
      "metadata": {
        "colab": {
          "base_uri": "https://localhost:8080/"
        },
        "id": "L8r-heTZLdgg",
        "outputId": "a383782a-b2af-46c2-d4a0-0830e39378d0"
      },
      "execution_count": 141,
      "outputs": [
        {
          "output_type": "execute_result",
          "data": {
            "text/plain": [
              "array([False,  True, False, False, False,  True,  True,  True])"
            ]
          },
          "metadata": {},
          "execution_count": 141
        }
      ]
    },
    {
      "cell_type": "code",
      "source": [
        "test_array[test_array > 3]  # 조건이 True인 index의 element만 추출"
      ],
      "metadata": {
        "colab": {
          "base_uri": "https://localhost:8080/"
        },
        "id": "6zegWzRZLx9n",
        "outputId": "3eb66514-0644-4a8e-df10-9393e62c1411"
      },
      "execution_count": 142,
      "outputs": [
        {
          "output_type": "execute_result",
          "data": {
            "text/plain": [
              "array([4., 8., 9., 7.])"
            ]
          },
          "metadata": {},
          "execution_count": 142
        }
      ]
    },
    {
      "cell_type": "code",
      "source": [
        "condition = test_array > 3\n",
        "test_array[condition]"
      ],
      "metadata": {
        "colab": {
          "base_uri": "https://localhost:8080/"
        },
        "id": "T79VW_wDL3TO",
        "outputId": "d1e32969-aea8-494c-94f1-e1e2816c1a8b"
      },
      "execution_count": 144,
      "outputs": [
        {
          "output_type": "execute_result",
          "data": {
            "text/plain": [
              "array([4., 8., 9., 7.])"
            ]
          },
          "metadata": {},
          "execution_count": 144
        }
      ]
    },
    {
      "cell_type": "markdown",
      "source": [
        "**fancy index**\n",
        "- numpy는 array를 index value로 사용해서 값을 추출하는 방법"
      ],
      "metadata": {
        "id": "eqrJKVVYMFyK"
      }
    },
    {
      "cell_type": "code",
      "source": [
        "a = np.array([2,4,6,8], float)\n",
        "b = np.array([0,0,1,3,2,1],int) #반드시 integer로 선언\n",
        "a[b] # bracket index, b 배열의 값을 index로 하여 a의 값들을 추출함"
      ],
      "metadata": {
        "colab": {
          "base_uri": "https://localhost:8080/"
        },
        "id": "csSzVsShL7UA",
        "outputId": "bfaf7f58-5ed0-464c-df98-aeb43c6c1479"
      },
      "execution_count": 145,
      "outputs": [
        {
          "output_type": "execute_result",
          "data": {
            "text/plain": [
              "array([2., 2., 4., 8., 6., 4.])"
            ]
          },
          "metadata": {},
          "execution_count": 145
        }
      ]
    },
    {
      "cell_type": "code",
      "source": [
        "a.take(b)   # take 함수 : bracket index와 같은 효과"
      ],
      "metadata": {
        "colab": {
          "base_uri": "https://localhost:8080/"
        },
        "id": "4pGLJjj9Mdyn",
        "outputId": "dbcafbb9-87f7-4a7b-d87c-d6677b6a6b54"
      },
      "execution_count": 146,
      "outputs": [
        {
          "output_type": "execute_result",
          "data": {
            "text/plain": [
              "array([2., 2., 4., 8., 6., 4.])"
            ]
          },
          "metadata": {},
          "execution_count": 146
        }
      ]
    },
    {
      "cell_type": "markdown",
      "source": [
        "- Matrix 형태의 데이터도가능"
      ],
      "metadata": {
        "id": "j5K3QzBYMjmK"
      }
    },
    {
      "cell_type": "code",
      "source": [
        "a = np.array([[1,4],[9,16]],float)\n",
        "b = np.array([0,0,1,1,0], int)\n",
        "c = np.array([0,1,1,1,1], int)\n",
        "a[b,c]  # b를 row index, c를 column index로 변환하여 표시함"
      ],
      "metadata": {
        "colab": {
          "base_uri": "https://localhost:8080/"
        },
        "id": "9N-WbkukMmey",
        "outputId": "87c75596-3073-4c17-d139-a06aabb7916b"
      },
      "execution_count": 147,
      "outputs": [
        {
          "output_type": "execute_result",
          "data": {
            "text/plain": [
              "array([ 1.,  4., 16., 16.,  4.])"
            ]
          },
          "metadata": {},
          "execution_count": 147
        }
      ]
    },
    {
      "cell_type": "markdown",
      "source": [
        "###8\\. Numpy data/io"
      ],
      "metadata": {
        "id": "LD5PTkC2M9fq"
      }
    },
    {
      "cell_type": "markdown",
      "source": [
        "**loadtxt & savetxt**\n",
        "- Text type의 데이터를 읽고, 저장하는 기능"
      ],
      "metadata": {
        "id": "OMcECPwiNFuh"
      }
    },
    {
      "cell_type": "code",
      "source": [
        "a = np.loadtxt(\"./populations.txt\")\n",
        "a[:10]"
      ],
      "metadata": {
        "colab": {
          "base_uri": "https://localhost:8080/"
        },
        "id": "qbOBKybQN1yt",
        "outputId": "e9b309b9-612e-4980-cb05-1af54decb207"
      },
      "execution_count": 149,
      "outputs": [
        {
          "output_type": "execute_result",
          "data": {
            "text/plain": [
              "array([[ 1900., 30000.,  4000., 48300.],\n",
              "       [ 1901., 47200.,  6100., 48200.],\n",
              "       [ 1902., 70200.,  9800., 41500.],\n",
              "       [ 1903., 77400., 35200., 38200.],\n",
              "       [ 1904., 36300., 59400., 40600.],\n",
              "       [ 1905., 20600., 41700., 39800.],\n",
              "       [ 1906., 18100., 19000., 38600.],\n",
              "       [ 1907., 21400., 13000., 42300.],\n",
              "       [ 1908., 22000.,  8300., 44500.],\n",
              "       [ 1909., 25400.,  9100., 42100.]])"
            ]
          },
          "metadata": {},
          "execution_count": 149
        }
      ]
    },
    {
      "cell_type": "code",
      "source": [
        "a_int = a.astype(int)\n",
        "a_int[:3]"
      ],
      "metadata": {
        "colab": {
          "base_uri": "https://localhost:8080/"
        },
        "id": "81PpUroRN76Z",
        "outputId": "83d0cf45-c60a-43ac-b60e-5df5cf698333"
      },
      "execution_count": 150,
      "outputs": [
        {
          "output_type": "execute_result",
          "data": {
            "text/plain": [
              "array([[ 1900, 30000,  4000, 48300],\n",
              "       [ 1901, 47200,  6100, 48200],\n",
              "       [ 1902, 70200,  9800, 41500]])"
            ]
          },
          "metadata": {},
          "execution_count": 150
        }
      ]
    },
    {
      "cell_type": "code",
      "source": [
        "np.savetxt('int_data.csv', a_int, delimiter=\",\")"
      ],
      "metadata": {
        "id": "26cwkNKcN_QD"
      },
      "execution_count": 151,
      "outputs": []
    },
    {
      "cell_type": "markdown",
      "source": [
        "**numpy object - npy**\n",
        "- Numpy object (pickle) 형태로 데이터를 저장하고 불러옴\n",
        "- Binary 파일 형태로 저장함"
      ],
      "metadata": {
        "id": "k6c-_x1yOLS9"
      }
    },
    {
      "cell_type": "code",
      "source": [
        "np.save(\"npy_test\", arr=a_int)"
      ],
      "metadata": {
        "id": "sv479UTjOMyX"
      },
      "execution_count": 152,
      "outputs": []
    },
    {
      "cell_type": "code",
      "source": [
        "npy_array = np.load(file=\"npy_test.npy\")\n",
        "npy_array[:3]"
      ],
      "metadata": {
        "colab": {
          "base_uri": "https://localhost:8080/"
        },
        "id": "8h_QpJhpOQ_S",
        "outputId": "e12f6c66-0c7e-4e0f-96f6-ab9860bdd480"
      },
      "execution_count": 153,
      "outputs": [
        {
          "output_type": "execute_result",
          "data": {
            "text/plain": [
              "array([[ 1900, 30000,  4000, 48300],\n",
              "       [ 1901, 47200,  6100, 48200],\n",
              "       [ 1902, 70200,  9800, 41500]])"
            ]
          },
          "metadata": {},
          "execution_count": 153
        }
      ]
    }
  ]
}