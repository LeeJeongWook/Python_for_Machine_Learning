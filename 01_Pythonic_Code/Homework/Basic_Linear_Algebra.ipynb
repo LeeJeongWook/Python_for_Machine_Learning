{
  "nbformat": 4,
  "nbformat_minor": 0,
  "metadata": {
    "colab": {
      "name": "Basic_Linear_Algebra.ipynb",
      "provenance": []
    },
    "kernelspec": {
      "name": "python3",
      "display_name": "Python 3"
    },
    "language_info": {
      "name": "python"
    }
  },
  "cells": [
    {
      "cell_type": "code",
      "source": [
        "def vector_size_check(*vector_variables):\n",
        "        # all : list 타입을 받아 모두 True일 경우 True\n",
        "    return all(len(vector_variables[0]) == x\n",
        "               for x in [len(vector) for vector in vector_variables[1:]])"
      ],
      "metadata": {
        "id": "_Fwaz1m1n0GZ"
      },
      "execution_count": 2,
      "outputs": []
    },
    {
      "cell_type": "code",
      "source": [
        "def vector_addition(*vector_variables):\n",
        "    if vector_size_check(*vector_variables) == False:\n",
        "        raise ArithmeticError   # raise : Error/Exception을 발생시킴\n",
        "    return [sum(elements) for elements in zip(*vector_variables)]"
      ],
      "metadata": {
        "id": "NFIRB26AoQvJ"
      },
      "execution_count": 4,
      "outputs": []
    },
    {
      "cell_type": "code",
      "source": [
        "print(vector_addition([1,3],[2,4],[6,7]))\n",
        "print(vector_addition([1,5],[10,4],[4,7]))"
      ],
      "metadata": {
        "colab": {
          "base_uri": "https://localhost:8080/"
        },
        "id": "cg-vL98QpK-0",
        "outputId": "f5602762-5978-4a80-fa3f-7352b5b761a0"
      },
      "execution_count": 6,
      "outputs": [
        {
          "output_type": "stream",
          "name": "stdout",
          "text": [
            "[9, 14]\n",
            "[15, 16]\n"
          ]
        }
      ]
    },
    {
      "cell_type": "code",
      "source": [
        "print(vector_addition([1,3,4],[4],[6,7]))   # Expected value: ArithmeticError"
      ],
      "metadata": {
        "colab": {
          "base_uri": "https://localhost:8080/",
          "height": 284
        },
        "id": "ZbiqifU3pNcG",
        "outputId": "6391fb16-1ad8-4ea0-b7aa-6cb8c32ea2e4"
      },
      "execution_count": 7,
      "outputs": [
        {
          "output_type": "error",
          "ename": "ArithmeticError",
          "evalue": "ignored",
          "traceback": [
            "\u001b[0;31m---------------------------------------------------------------------------\u001b[0m",
            "\u001b[0;31mArithmeticError\u001b[0m                           Traceback (most recent call last)",
            "\u001b[0;32m<ipython-input-7-63af0ed72e65>\u001b[0m in \u001b[0;36m<module>\u001b[0;34m()\u001b[0m\n\u001b[0;32m----> 1\u001b[0;31m \u001b[0mprint\u001b[0m\u001b[0;34m(\u001b[0m\u001b[0mvector_addition\u001b[0m\u001b[0;34m(\u001b[0m\u001b[0;34m[\u001b[0m\u001b[0;36m1\u001b[0m\u001b[0;34m,\u001b[0m\u001b[0;36m3\u001b[0m\u001b[0;34m,\u001b[0m\u001b[0;36m4\u001b[0m\u001b[0;34m]\u001b[0m\u001b[0;34m,\u001b[0m\u001b[0;34m[\u001b[0m\u001b[0;36m4\u001b[0m\u001b[0;34m]\u001b[0m\u001b[0;34m,\u001b[0m\u001b[0;34m[\u001b[0m\u001b[0;36m6\u001b[0m\u001b[0;34m,\u001b[0m\u001b[0;36m7\u001b[0m\u001b[0;34m]\u001b[0m\u001b[0;34m)\u001b[0m\u001b[0;34m)\u001b[0m   \u001b[0;31m# Expected value: ArithmeticError\u001b[0m\u001b[0;34m\u001b[0m\u001b[0;34m\u001b[0m\u001b[0m\n\u001b[0m",
            "\u001b[0;32m<ipython-input-4-40f5ee63bb20>\u001b[0m in \u001b[0;36mvector_addition\u001b[0;34m(*vector_variables)\u001b[0m\n\u001b[1;32m      1\u001b[0m \u001b[0;32mdef\u001b[0m \u001b[0mvector_addition\u001b[0m\u001b[0;34m(\u001b[0m\u001b[0;34m*\u001b[0m\u001b[0mvector_variables\u001b[0m\u001b[0;34m)\u001b[0m\u001b[0;34m:\u001b[0m\u001b[0;34m\u001b[0m\u001b[0;34m\u001b[0m\u001b[0m\n\u001b[1;32m      2\u001b[0m     \u001b[0;32mif\u001b[0m \u001b[0mvector_size_check\u001b[0m\u001b[0;34m(\u001b[0m\u001b[0;34m*\u001b[0m\u001b[0mvector_variables\u001b[0m\u001b[0;34m)\u001b[0m \u001b[0;34m==\u001b[0m \u001b[0;32mFalse\u001b[0m\u001b[0;34m:\u001b[0m\u001b[0;34m\u001b[0m\u001b[0;34m\u001b[0m\u001b[0m\n\u001b[0;32m----> 3\u001b[0;31m         \u001b[0;32mraise\u001b[0m \u001b[0mArithmeticError\u001b[0m   \u001b[0;31m# raise : Error/Exception을 발생시킴\u001b[0m\u001b[0;34m\u001b[0m\u001b[0;34m\u001b[0m\u001b[0m\n\u001b[0m\u001b[1;32m      4\u001b[0m     \u001b[0;32mreturn\u001b[0m \u001b[0;34m[\u001b[0m\u001b[0msum\u001b[0m\u001b[0;34m(\u001b[0m\u001b[0melements\u001b[0m\u001b[0;34m)\u001b[0m \u001b[0;32mfor\u001b[0m \u001b[0melements\u001b[0m \u001b[0;32min\u001b[0m \u001b[0mzip\u001b[0m\u001b[0;34m(\u001b[0m\u001b[0;34m*\u001b[0m\u001b[0mvector_variables\u001b[0m\u001b[0;34m)\u001b[0m\u001b[0;34m]\u001b[0m\u001b[0;34m\u001b[0m\u001b[0;34m\u001b[0m\u001b[0m\n",
            "\u001b[0;31mArithmeticError\u001b[0m: "
          ]
        }
      ]
    },
    {
      "cell_type": "code",
      "source": [
        "def vector_subtraction(*vector_variables):\n",
        "    if vector_size_check(*vector_variables) == False:\n",
        "        raise ArithmeticError\n",
        "    return [elements[0]*2-sum(elements) for elements in zip(*vector_variables)]"
      ],
      "metadata": {
        "id": "VTilBBuvpmnq"
      },
      "execution_count": 8,
      "outputs": []
    },
    {
      "cell_type": "code",
      "source": [
        "print(vector_subtraction([1,3],[2,4],[6,7]))\n",
        "print(vector_subtraction([1,5],[10,4],[4,7]))"
      ],
      "metadata": {
        "colab": {
          "base_uri": "https://localhost:8080/"
        },
        "id": "9vdNF6vmp8Cs",
        "outputId": "22922bab-1251-42dd-fca9-c9aa24e38efd"
      },
      "execution_count": 10,
      "outputs": [
        {
          "output_type": "stream",
          "name": "stdout",
          "text": [
            "[-7, -8]\n",
            "[-13, -6]\n"
          ]
        }
      ]
    },
    {
      "cell_type": "code",
      "source": [
        "def scalar_vector_product(alpha, vector_variable):\n",
        "    return [alpha*element for element in vector_variable]"
      ],
      "metadata": {
        "id": "KEQWbdSOrCEz"
      },
      "execution_count": 11,
      "outputs": []
    },
    {
      "cell_type": "code",
      "source": [
        "print(scalar_vector_product(5,[1,2,3]))\n",
        "print(scalar_vector_product(3,[2,2]))"
      ],
      "metadata": {
        "colab": {
          "base_uri": "https://localhost:8080/"
        },
        "id": "5Bz-P4ptrMFv",
        "outputId": "7f41c24a-3a94-432c-e14f-cabc12453767"
      },
      "execution_count": 13,
      "outputs": [
        {
          "output_type": "stream",
          "name": "stdout",
          "text": [
            "[5, 10, 15]\n",
            "[6, 6]\n"
          ]
        }
      ]
    },
    {
      "cell_type": "code",
      "source": [
        "def matrix_size_check(*matrix_variables):\n",
        "    return all([len(set(len(matrix[0]) for matrix in matrix_variables)) == 1]) and all([len(matrix_variables[0]) == len(matrix) for matrix in matrix_variables])"
      ],
      "metadata": {
        "id": "0ffDrmmwre83"
      },
      "execution_count": 23,
      "outputs": []
    },
    {
      "cell_type": "code",
      "source": [
        "matrix_x = [[2,2],[2,2],[2,2]]\n",
        "matrix_y = [[2,5],[2,1]]\n",
        "matrix_z = [[2,4],[5,3]]\n",
        "matrix_w = [[2,5],[1,1],[2,2]]"
      ],
      "metadata": {
        "id": "vnIRCdaGtM2L"
      },
      "execution_count": 21,
      "outputs": []
    },
    {
      "cell_type": "code",
      "source": [
        "print(matrix_size_check(matrix_x, matrix_y, matrix_z))\n",
        "print(matrix_size_check(matrix_y, matrix_z))\n",
        "print(matrix_size_check(matrix_x, matrix_w))"
      ],
      "metadata": {
        "colab": {
          "base_uri": "https://localhost:8080/"
        },
        "id": "2W2gd62Eti9X",
        "outputId": "d3ac9e97-ae7c-4327-e873-b375b74e4f01"
      },
      "execution_count": 25,
      "outputs": [
        {
          "output_type": "stream",
          "name": "stdout",
          "text": [
            "False\n",
            "True\n",
            "True\n"
          ]
        }
      ]
    },
    {
      "cell_type": "code",
      "source": [
        "def is_matrix_equal(*matrix_variables):\n",
        "    return all([all([len(set(row)) == 1 for row in zip(*matrix)]) for matrix in zip(*matrix_variables)])"
      ],
      "metadata": {
        "id": "-UpUQLM3wVXb"
      },
      "execution_count": 26,
      "outputs": []
    },
    {
      "cell_type": "code",
      "source": [
        "matrix_x = [[2,2],[2,2]]\n",
        "matrix_y = [[2,5],[2,1]]"
      ],
      "metadata": {
        "id": "dK243ZztwYkV"
      },
      "execution_count": 27,
      "outputs": []
    },
    {
      "cell_type": "code",
      "source": [
        "print(is_matrix_equal(matrix_x, matrix_y, matrix_y, matrix_y))\n",
        "print(is_matrix_equal(matrix_y, matrix_y, matrix_y, matrix_y))\n",
        "print(is_matrix_equal(matrix_x, matrix_x))"
      ],
      "metadata": {
        "colab": {
          "base_uri": "https://localhost:8080/"
        },
        "id": "OdIAesgBwqGs",
        "outputId": "bfe351ff-c443-421b-cae9-d8e05dbc0622"
      },
      "execution_count": 30,
      "outputs": [
        {
          "output_type": "stream",
          "name": "stdout",
          "text": [
            "False\n",
            "True\n",
            "True\n"
          ]
        }
      ]
    },
    {
      "cell_type": "code",
      "source": [
        "def matrix_addition(*matrix_variables):\n",
        "    if matrix_size_check(*matrix_variables) == False:\n",
        "        raise ArithmeticError\n",
        "    return [[sum(row) for row in zip(*matrix)] for matrix in zip(*matrix_variables)]"
      ],
      "metadata": {
        "id": "aXJXNOZowx0A"
      },
      "execution_count": 31,
      "outputs": []
    },
    {
      "cell_type": "code",
      "source": [
        "matrix_x = [[2,2],[2,2]]\n",
        "matrix_y = [[2,5],[2,1]]\n",
        "matrix_z = [[2,4],[5,3]]"
      ],
      "metadata": {
        "id": "YCOVg1J7xfI3"
      },
      "execution_count": 39,
      "outputs": []
    },
    {
      "cell_type": "code",
      "source": [
        "print(matrix_addition(matrix_x, matrix_y, matrix_z))"
      ],
      "metadata": {
        "colab": {
          "base_uri": "https://localhost:8080/"
        },
        "id": "OnAMiANpxlKT",
        "outputId": "5b314d64-8467-4196-b677-9290b3788d0c"
      },
      "execution_count": 33,
      "outputs": [
        {
          "output_type": "stream",
          "name": "stdout",
          "text": [
            "[[6, 11], [9, 6]]\n"
          ]
        }
      ]
    },
    {
      "cell_type": "code",
      "source": [
        "def matrix_subtraction(*matrix_variables):\n",
        "    if matrix_size_check(*matrix_variables) == False:\n",
        "        raise ArithmeticError\n",
        "    return [[row[0]*2 - sum(row) for row in zip(*matrix)] for matrix in zip(*matrix_variables)]"
      ],
      "metadata": {
        "id": "Pyvdev2KxEPT"
      },
      "execution_count": 34,
      "outputs": []
    },
    {
      "cell_type": "code",
      "source": [
        "print(matrix_subtraction(matrix_x, matrix_y, matrix_z))"
      ],
      "metadata": {
        "colab": {
          "base_uri": "https://localhost:8080/"
        },
        "id": "Q9MY68FbyjYN",
        "outputId": "ef671e29-dec3-4596-9ad1-d60e4e8515c1"
      },
      "execution_count": 35,
      "outputs": [
        {
          "output_type": "stream",
          "name": "stdout",
          "text": [
            "[[-2, -7], [-5, -2]]\n"
          ]
        }
      ]
    },
    {
      "cell_type": "code",
      "source": [
        "def matrix_transpose(matrix_variable):\n",
        "    return [[element for element in row] for row in zip(*matrix_variable)]"
      ],
      "metadata": {
        "id": "Pm8O09KhxF1u"
      },
      "execution_count": 36,
      "outputs": []
    },
    {
      "cell_type": "code",
      "source": [
        "print(matrix_transpose(matrix_y))"
      ],
      "metadata": {
        "colab": {
          "base_uri": "https://localhost:8080/"
        },
        "id": "HYh8i5-YyzQ9",
        "outputId": "0f3f1a5a-95b1-47f8-8809-21c6d91d69e1"
      },
      "execution_count": 40,
      "outputs": [
        {
          "output_type": "stream",
          "name": "stdout",
          "text": [
            "[[2, 2], [5, 1]]\n"
          ]
        }
      ]
    },
    {
      "cell_type": "code",
      "source": [
        "def scalar_matrix_product(alpha, matrix_variable):\n",
        "    return [ scalar_vector_product(alpha, row) for row in matrix_variable]"
      ],
      "metadata": {
        "id": "fURH07TdxH6e"
      },
      "execution_count": 41,
      "outputs": []
    },
    {
      "cell_type": "code",
      "source": [
        "print(scalar_matrix_product(5, matrix_z))"
      ],
      "metadata": {
        "colab": {
          "base_uri": "https://localhost:8080/"
        },
        "id": "kKC2uMxh0df7",
        "outputId": "5d5558d1-5472-40ae-9b2b-b075391c08fc"
      },
      "execution_count": 46,
      "outputs": [
        {
          "output_type": "stream",
          "name": "stdout",
          "text": [
            "[[10, 20], [25, 15]]\n"
          ]
        }
      ]
    },
    {
      "cell_type": "code",
      "source": [
        "def is_product_availability_matrix(matrix_a, matrix_b):\n",
        "    return len([column_vector for column_vector in zip(*matrix_a)]) == len(matrix_b)"
      ],
      "metadata": {
        "id": "aacWBRV5xIOW"
      },
      "execution_count": 42,
      "outputs": []
    },
    {
      "cell_type": "code",
      "source": [
        "print(is_product_availability_matrix(matrix_y,matrix_z))"
      ],
      "metadata": {
        "colab": {
          "base_uri": "https://localhost:8080/"
        },
        "id": "G7BiapKI0d_0",
        "outputId": "c7dddc4f-5edb-4b72-9090-e6d066cac9e0"
      },
      "execution_count": 47,
      "outputs": [
        {
          "output_type": "stream",
          "name": "stdout",
          "text": [
            "True\n"
          ]
        }
      ]
    },
    {
      "cell_type": "code",
      "execution_count": 43,
      "metadata": {
        "id": "jtWrTXbXnUiy"
      },
      "outputs": [],
      "source": [
        "def matrix_product(matrix_a, matrix_b):\n",
        "    if is_product_availability_matrix(matrix_a, matrix_b) == False:\n",
        "        raise ArithmeticError\n",
        "    return [[sum(a*b for a,b in zip(row_a, column_b)) for column_b in zip(*matrix_b)] for row_a in matrix_a]"
      ]
    },
    {
      "cell_type": "code",
      "source": [
        "matrix_x = [[2,5],[1,1]]\n",
        "matrix_y = [[1,1,2],[2,1,1]]\n",
        "matrix_z = [[2,4],[5,3],[1,3]]"
      ],
      "metadata": {
        "id": "LlKkISPO02G7"
      },
      "execution_count": 48,
      "outputs": []
    },
    {
      "cell_type": "code",
      "source": [
        "print(matrix_product(matrix_y, matrix_z))\n",
        "print(matrix_product(matrix_z, matrix_x))"
      ],
      "metadata": {
        "colab": {
          "base_uri": "https://localhost:8080/"
        },
        "id": "v4v-kGav09Wa",
        "outputId": "b2ed94d8-0106-417a-ebcc-3d8ab0bdec9e"
      },
      "execution_count": 49,
      "outputs": [
        {
          "output_type": "stream",
          "name": "stdout",
          "text": [
            "[[9, 13], [10, 14]]\n",
            "[[8, 14], [13, 28], [5, 8]]\n"
          ]
        }
      ]
    }
  ]
}