{
  "nbformat": 4,
  "nbformat_minor": 0,
  "metadata": {
    "colab": {
      "name": "Insert_Operation.ipynb",
      "provenance": [],
      "collapsed_sections": []
    },
    "kernelspec": {
      "name": "python3",
      "display_name": "Python 3"
    },
    "language_info": {
      "name": "python"
    }
  },
  "cells": [
    {
      "cell_type": "code",
      "source": [
        "import itertools\n",
        "from functools import reduce\n",
        "import sys\n",
        "import time"
      ],
      "metadata": {
        "id": "BhQNrZyP18EL"
      },
      "execution_count": 1,
      "outputs": []
    },
    {
      "cell_type": "code",
      "execution_count": 3,
      "metadata": {
        "id": "5i3MbAn_1WxN"
      },
      "outputs": [],
      "source": [
        "def insert_operation(length, input_num, input_oper):\n",
        "    \n",
        "    ops = {\"0\": (lambda x,y:x+y), \"1\": (lambda x,y:x-y), \"2\":(lambda x,y:x*y),\"3\":(lambda x,y:x/y),}\n",
        "    oper_permutation = []\n",
        "    result = []\n",
        "    list(oper_permutation.extend([str(index)]*value) for index, value in enumerate(input_oper) if value > 0)\n",
        "    permutation = [list(x) for x in set(itertools.permutations(oper_permutation))]\n",
        "    print(permutation)\n",
        "    for i in permutation:\n",
        "        result.append(reduce(lambda x,y : ops[i.pop()](x,y), input_num))\n",
        "    \n",
        "    print(str(max(result))+\"\\n\"+str(min(result)))"
      ]
    },
    {
      "cell_type": "code",
      "source": [
        "n = 6\n",
        "numbers = [1,2,3,4,5,6]\n",
        "arithmetics = [2,1,1,1]\n",
        "insert_operation(n, numbers, arithmetics)"
      ],
      "metadata": {
        "colab": {
          "base_uri": "https://localhost:8080/"
        },
        "id": "DqIFEGHb3T87",
        "outputId": "bc44c542-66ba-464d-ca39-78ca935fc43c"
      },
      "execution_count": 4,
      "outputs": [
        {
          "output_type": "stream",
          "name": "stdout",
          "text": [
            "[['2', '0', '0', '3', '1'], ['2', '0', '3', '0', '1'], ['3', '0', '0', '2', '1'], ['3', '0', '2', '0', '1'], ['1', '2', '0', '0', '3'], ['0', '3', '0', '2', '1'], ['0', '3', '2', '0', '1'], ['2', '3', '0', '1', '0'], ['2', '3', '1', '0', '0'], ['3', '1', '0', '2', '0'], ['3', '1', '2', '0', '0'], ['1', '3', '0', '0', '2'], ['1', '2', '0', '3', '0'], ['1', '2', '3', '0', '0'], ['0', '0', '1', '2', '3'], ['0', '0', '2', '1', '3'], ['1', '0', '2', '3', '0'], ['1', '0', '3', '2', '0'], ['2', '0', '1', '3', '0'], ['2', '0', '3', '1', '0'], ['3', '0', '1', '2', '0'], ['3', '0', '2', '1', '0'], ['0', '3', '1', '2', '0'], ['0', '3', '2', '1', '0'], ['0', '3', '0', '1', '2'], ['0', '3', '1', '0', '2'], ['1', '0', '0', '2', '3'], ['1', '0', '2', '0', '3'], ['2', '0', '0', '1', '3'], ['2', '0', '1', '0', '3'], ['3', '2', '0', '1', '0'], ['3', '2', '1', '0', '0'], ['0', '0', '1', '3', '2'], ['0', '0', '3', '1', '2'], ['0', '1', '2', '0', '3'], ['0', '1', '0', '2', '3'], ['1', '0', '0', '3', '2'], ['1', '0', '3', '0', '2'], ['3', '0', '0', '1', '2'], ['3', '0', '1', '0', '2'], ['0', '1', '2', '3', '0'], ['0', '1', '3', '2', '0'], ['2', '1', '0', '0', '3'], ['0', '2', '0', '3', '1'], ['0', '2', '3', '0', '1'], ['0', '1', '3', '0', '2'], ['0', '1', '0', '3', '2'], ['0', '0', '2', '3', '1'], ['0', '2', '1', '0', '3'], ['0', '2', '0', '1', '3'], ['2', '1', '0', '3', '0'], ['2', '1', '3', '0', '0'], ['3', '2', '0', '0', '1'], ['2', '3', '0', '0', '1'], ['0', '2', '1', '3', '0'], ['0', '2', '3', '1', '0'], ['1', '3', '0', '2', '0'], ['1', '3', '2', '0', '0'], ['0', '0', '3', '2', '1'], ['3', '1', '0', '0', '2']]\n",
            "52.0\n",
            "-21.0\n"
          ]
        }
      ]
    }
  ]
}