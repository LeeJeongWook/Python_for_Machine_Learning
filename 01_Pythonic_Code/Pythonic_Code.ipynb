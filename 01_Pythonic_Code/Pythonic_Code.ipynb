{
  "nbformat": 4,
  "nbformat_minor": 0,
  "metadata": {
    "colab": {
      "name": "Pythonic_Code.ipynb",
      "provenance": [],
      "collapsed_sections": []
    },
    "kernelspec": {
      "name": "python3",
      "display_name": "Python 3"
    },
    "language_info": {
      "name": "python"
    }
  },
  "cells": [
    {
      "cell_type": "markdown",
      "source": [
        "#Split & Join"
      ],
      "metadata": {
        "id": "SaZxSQnmZvoA"
      }
    },
    {
      "cell_type": "markdown",
      "source": [
        "#####Split 함수"
      ],
      "metadata": {
        "id": "CedbseH8aB65"
      }
    },
    {
      "cell_type": "code",
      "execution_count": 1,
      "metadata": {
        "colab": {
          "base_uri": "https://localhost:8080/"
        },
        "id": "r1KwfvQLZnNL",
        "outputId": "e7e58632-483f-4d7d-b60f-e3031193d554"
      },
      "outputs": [
        {
          "output_type": "stream",
          "name": "stdout",
          "text": [
            "['zero', 'one', 'two', 'three']\n"
          ]
        }
      ],
      "source": [
        "items = 'zero one two three'.split()    # 빈칸을 기준으로 문자열 나누기\n",
        "print(items)"
      ]
    },
    {
      "cell_type": "code",
      "source": [
        "example = 'pythone,jquery,javascript'   # \",\"을 기준으로 문자열 나누기\n",
        "example.split(\",\")"
      ],
      "metadata": {
        "colab": {
          "base_uri": "https://localhost:8080/"
        },
        "id": "X4JnwlkBbH85",
        "outputId": "bf9e88e5-7718-44fc-bd08-b487e17da0e1"
      },
      "execution_count": 2,
      "outputs": [
        {
          "output_type": "execute_result",
          "data": {
            "text/plain": [
              "['pythone', 'jquery', 'javascript']"
            ]
          },
          "metadata": {},
          "execution_count": 2
        }
      ]
    },
    {
      "cell_type": "code",
      "source": [
        "a, b, c = example.split(\",\")    # 리스트에 있는 각 값을 a, b, c 변수로 unpacking\n",
        "print(a)\n",
        "print(b)\n",
        "print(c)"
      ],
      "metadata": {
        "colab": {
          "base_uri": "https://localhost:8080/"
        },
        "id": "GHnRe3PlbWAi",
        "outputId": "f6adfebf-5704-4ca8-a81d-8ef537e20040"
      },
      "execution_count": 3,
      "outputs": [
        {
          "output_type": "stream",
          "name": "stdout",
          "text": [
            "pythone\n",
            "jquery\n",
            "javascript\n"
          ]
        }
      ]
    },
    {
      "cell_type": "code",
      "source": [
        "example = 'cs50.gachon.edu'\n",
        "subdomain, domain, tld = example.split('.')     # \".\"을 기준으로 문자열 나누기 -> Unpacking\n",
        "print(subdomain)\n",
        "print(domain)\n",
        "print(tld)"
      ],
      "metadata": {
        "colab": {
          "base_uri": "https://localhost:8080/"
        },
        "id": "OplPEN1-bi0y",
        "outputId": "c84b2876-e653-408c-f66c-17b49022882e"
      },
      "execution_count": 4,
      "outputs": [
        {
          "output_type": "stream",
          "name": "stdout",
          "text": [
            "cs50\n",
            "gachon\n",
            "edu\n"
          ]
        }
      ]
    },
    {
      "cell_type": "markdown",
      "source": [
        "#####Join 함수"
      ],
      "metadata": {
        "id": "LbBos3IAcEqf"
      }
    },
    {
      "cell_type": "code",
      "source": [
        "colors = ['red', 'blue', 'green', 'yellow']\n",
        "result = ''.join(colors)\n",
        "print(result)"
      ],
      "metadata": {
        "colab": {
          "base_uri": "https://localhost:8080/"
        },
        "id": "nTEhbyJjcDnK",
        "outputId": "6d8cd562-ea70-45fc-8b93-b981f38e99b0"
      },
      "execution_count": 5,
      "outputs": [
        {
          "output_type": "stream",
          "name": "stdout",
          "text": [
            "redbluegreenyellow\n"
          ]
        }
      ]
    },
    {
      "cell_type": "code",
      "source": [
        "result = ' '.join(colors)   # 연결 시 빈칸 1칸으로 연결\n",
        "print(result)"
      ],
      "metadata": {
        "colab": {
          "base_uri": "https://localhost:8080/"
        },
        "id": "FUW0-Mb4cRla",
        "outputId": "3b2d1d9e-3d31-41be-e3f3-5e2d0a954b7f"
      },
      "execution_count": 6,
      "outputs": [
        {
          "output_type": "stream",
          "name": "stdout",
          "text": [
            "red blue green yellow\n"
          ]
        }
      ]
    },
    {
      "cell_type": "code",
      "source": [
        "result = ', '.join(colors)   # 연결 시 빈칸 \", \"으로 연결\n",
        "print(result)"
      ],
      "metadata": {
        "colab": {
          "base_uri": "https://localhost:8080/"
        },
        "id": "QKgD9H-ucZsq",
        "outputId": "966658e5-bc12-49e4-9169-f75dbd24b73c"
      },
      "execution_count": 7,
      "outputs": [
        {
          "output_type": "stream",
          "name": "stdout",
          "text": [
            "red, blue, green, yellow\n"
          ]
        }
      ]
    },
    {
      "cell_type": "code",
      "source": [
        "result = '-'.join(colors)   # 연결 시 빈칸 \"-\"으로 연결\n",
        "print(result)"
      ],
      "metadata": {
        "colab": {
          "base_uri": "https://localhost:8080/"
        },
        "id": "5-OB-uZNcbgi",
        "outputId": "f66a18c4-77bc-4879-b50b-0f6199cda400"
      },
      "execution_count": 8,
      "outputs": [
        {
          "output_type": "stream",
          "name": "stdout",
          "text": [
            "red-blue-green-yellow\n"
          ]
        }
      ]
    },
    {
      "cell_type": "markdown",
      "source": [
        "# List Comprehensions"
      ],
      "metadata": {
        "id": "eXB10ugeEb5Y"
      }
    },
    {
      "cell_type": "code",
      "source": [
        "result = []\n",
        "for i in range(10):\n",
        "    result.append(i)\n",
        "\n",
        "print(result)"
      ],
      "metadata": {
        "colab": {
          "base_uri": "https://localhost:8080/"
        },
        "id": "fwN886KOE-a1",
        "outputId": "e7e455d0-d76a-4225-8b7c-dd1f2728d581"
      },
      "execution_count": 9,
      "outputs": [
        {
          "output_type": "stream",
          "name": "stdout",
          "text": [
            "[0, 1, 2, 3, 4, 5, 6, 7, 8, 9]\n"
          ]
        }
      ]
    },
    {
      "cell_type": "code",
      "source": [
        "result = [i for i in range(10)]\n",
        "print(result)"
      ],
      "metadata": {
        "colab": {
          "base_uri": "https://localhost:8080/"
        },
        "id": "o7_XH-rFFFYs",
        "outputId": "4f834fcc-172d-4023-dee0-160544194471"
      },
      "execution_count": 10,
      "outputs": [
        {
          "output_type": "stream",
          "name": "stdout",
          "text": [
            "[0, 1, 2, 3, 4, 5, 6, 7, 8, 9]\n"
          ]
        }
      ]
    },
    {
      "cell_type": "code",
      "source": [
        "result = [i for i in range(10) if i % 2 == 0]\n",
        "print(result)"
      ],
      "metadata": {
        "colab": {
          "base_uri": "https://localhost:8080/"
        },
        "id": "90toaXWQFKLh",
        "outputId": "1b0eefae-3175-49dd-93c2-4af2e1494cb1"
      },
      "execution_count": 11,
      "outputs": [
        {
          "output_type": "stream",
          "name": "stdout",
          "text": [
            "[0, 2, 4, 6, 8]\n"
          ]
        }
      ]
    },
    {
      "cell_type": "code",
      "source": [
        "word_1 = \"Hello\"\n",
        "word_2 = \"World\"\n",
        "result = [i+j for i in word_1 for j in word_2]\n",
        "print(result)"
      ],
      "metadata": {
        "colab": {
          "base_uri": "https://localhost:8080/"
        },
        "id": "_V04SP0ZFOBJ",
        "outputId": "0895063d-4f85-406b-aaee-e0cc7078f22c"
      },
      "execution_count": 12,
      "outputs": [
        {
          "output_type": "stream",
          "name": "stdout",
          "text": [
            "['HW', 'Ho', 'Hr', 'Hl', 'Hd', 'eW', 'eo', 'er', 'el', 'ed', 'lW', 'lo', 'lr', 'll', 'ld', 'lW', 'lo', 'lr', 'll', 'ld', 'oW', 'oo', 'or', 'ol', 'od']\n"
          ]
        }
      ]
    },
    {
      "cell_type": "code",
      "source": [
        "result_2 = []\n",
        "for i in word_1:\n",
        "    for j in word_2:\n",
        "        result_2.append(i+j)\n",
        "print(result_2)"
      ],
      "metadata": {
        "colab": {
          "base_uri": "https://localhost:8080/"
        },
        "id": "O3hLXC0wFedj",
        "outputId": "aac73e28-1330-420d-fcc1-d50efb2cf807"
      },
      "execution_count": 13,
      "outputs": [
        {
          "output_type": "stream",
          "name": "stdout",
          "text": [
            "['HW', 'Ho', 'Hr', 'Hl', 'Hd', 'eW', 'eo', 'er', 'el', 'ed', 'lW', 'lo', 'lr', 'll', 'ld', 'lW', 'lo', 'lr', 'll', 'ld', 'oW', 'oo', 'or', 'ol', 'od']\n"
          ]
        }
      ]
    },
    {
      "cell_type": "code",
      "source": [
        "case_1 = [\"A\",\"B\",\"C\"]\n",
        "case_2 = [\"D\",\"E\",\"A\"]\n",
        "result = [i+j for i in case_1 for j in case_2]\n",
        "print(result)"
      ],
      "metadata": {
        "colab": {
          "base_uri": "https://localhost:8080/"
        },
        "id": "GTCynZkjFz31",
        "outputId": "ced8771b-9fa4-40f9-e7e3-5efb43d16d8d"
      },
      "execution_count": 14,
      "outputs": [
        {
          "output_type": "stream",
          "name": "stdout",
          "text": [
            "['AD', 'AE', 'AA', 'BD', 'BE', 'BA', 'CD', 'CE', 'CA']\n"
          ]
        }
      ]
    },
    {
      "cell_type": "code",
      "source": [
        "result = [i+j for i in case_1 for j in case_2 if not(i==j)]\n",
        "print(result)"
      ],
      "metadata": {
        "colab": {
          "base_uri": "https://localhost:8080/"
        },
        "id": "ov5TKXwaGDoR",
        "outputId": "ea61a69c-79ac-4aaa-ac4d-c29d59e8f158"
      },
      "execution_count": 15,
      "outputs": [
        {
          "output_type": "stream",
          "name": "stdout",
          "text": [
            "['AD', 'AE', 'BD', 'BE', 'BA', 'CD', 'CE', 'CA']\n"
          ]
        }
      ]
    },
    {
      "cell_type": "code",
      "source": [
        "result.sort()\n",
        "print(result)"
      ],
      "metadata": {
        "colab": {
          "base_uri": "https://localhost:8080/"
        },
        "id": "czBq6bGbGLtp",
        "outputId": "83e9df6d-9ddb-4a81-9cda-a247fc24f3f9"
      },
      "execution_count": 19,
      "outputs": [
        {
          "output_type": "stream",
          "name": "stdout",
          "text": [
            "['AD', 'AE', 'BA', 'BD', 'BE', 'CA', 'CD', 'CE']\n"
          ]
        }
      ]
    },
    {
      "cell_type": "code",
      "source": [
        "words = 'The quick brown fox jumps over the lazy dog'.split()\n",
        "print(words)"
      ],
      "metadata": {
        "colab": {
          "base_uri": "https://localhost:8080/"
        },
        "id": "cteqKFL2GaQD",
        "outputId": "e031b1e5-57b7-469e-9580-f51881a084a1"
      },
      "execution_count": 21,
      "outputs": [
        {
          "output_type": "stream",
          "name": "stdout",
          "text": [
            "['The', 'quick', 'brown', 'fox', 'jumps', 'over', 'the', 'lazy', 'dog']\n"
          ]
        }
      ]
    },
    {
      "cell_type": "code",
      "source": [
        "stuff = [[w.upper(), w.lower(), len(w)] for w in words]\n",
        "print(stuff)"
      ],
      "metadata": {
        "colab": {
          "base_uri": "https://localhost:8080/"
        },
        "id": "hHZOja_KGtwS",
        "outputId": "eecedc0b-d2ea-4d9b-cbf2-3d6005faba04"
      },
      "execution_count": 23,
      "outputs": [
        {
          "output_type": "stream",
          "name": "stdout",
          "text": [
            "[['THE', 'the', 3], ['QUICK', 'quick', 5], ['BROWN', 'brown', 5], ['FOX', 'fox', 3], ['JUMPS', 'jumps', 5], ['OVER', 'over', 4], ['THE', 'the', 3], ['LAZY', 'lazy', 4], ['DOG', 'dog', 3]]\n"
          ]
        }
      ]
    },
    {
      "cell_type": "code",
      "source": [
        "for i in stuff:\n",
        "    print(i)"
      ],
      "metadata": {
        "colab": {
          "base_uri": "https://localhost:8080/"
        },
        "id": "KPq4d3siG4UK",
        "outputId": "b3687254-0d14-4b01-f698-908e10c42afe"
      },
      "execution_count": 24,
      "outputs": [
        {
          "output_type": "stream",
          "name": "stdout",
          "text": [
            "['THE', 'the', 3]\n",
            "['QUICK', 'quick', 5]\n",
            "['BROWN', 'brown', 5]\n",
            "['FOX', 'fox', 3]\n",
            "['JUMPS', 'jumps', 5]\n",
            "['OVER', 'over', 4]\n",
            "['THE', 'the', 3]\n",
            "['LAZY', 'lazy', 4]\n",
            "['DOG', 'dog', 3]\n"
          ]
        }
      ]
    },
    {
      "cell_type": "code",
      "source": [
        "case_1 = [\"A\",\"B\",\"C\"]\n",
        "case_2 = [\"D\",\"E\",\"A\"]"
      ],
      "metadata": {
        "id": "--dqn75zG-gP"
      },
      "execution_count": 25,
      "outputs": []
    },
    {
      "cell_type": "code",
      "source": [
        "result = [i+j for i in case_1 for j in case_2]\n",
        "print(result)"
      ],
      "metadata": {
        "colab": {
          "base_uri": "https://localhost:8080/"
        },
        "id": "OHoc0KBPHCvZ",
        "outputId": "519b16ac-6968-4bb3-f21d-5bfc90c44983"
      },
      "execution_count": 26,
      "outputs": [
        {
          "output_type": "stream",
          "name": "stdout",
          "text": [
            "['AD', 'AE', 'AA', 'BD', 'BE', 'BA', 'CD', 'CE', 'CA']\n"
          ]
        }
      ]
    },
    {
      "cell_type": "code",
      "source": [
        "result = [[i+j for i in case_1] for j in case_2]\n",
        "print(result)"
      ],
      "metadata": {
        "colab": {
          "base_uri": "https://localhost:8080/"
        },
        "id": "nhGBq5bOHGwJ",
        "outputId": "70a62929-307c-4dba-cb0c-a22e60ed47fb"
      },
      "execution_count": 27,
      "outputs": [
        {
          "output_type": "stream",
          "name": "stdout",
          "text": [
            "[['AD', 'BD', 'CD'], ['AE', 'BE', 'CE'], ['AA', 'BA', 'CA']]\n"
          ]
        }
      ]
    },
    {
      "cell_type": "markdown",
      "source": [
        "#Enumerate & Zip"
      ],
      "metadata": {
        "id": "KLFHT-YEErIb"
      }
    },
    {
      "cell_type": "markdown",
      "source": [
        "#####Enumerate"
      ],
      "metadata": {
        "id": "rjel523HJM0o"
      }
    },
    {
      "cell_type": "code",
      "source": [
        "for i, v in enumerate (['tic', 'tac', 'toe']):\n",
        "    print(i, v)"
      ],
      "metadata": {
        "colab": {
          "base_uri": "https://localhost:8080/"
        },
        "id": "-xuvyFxmIjgW",
        "outputId": "a6f0729f-52c7-4cb3-e322-9f05cdf6c28e"
      },
      "execution_count": 28,
      "outputs": [
        {
          "output_type": "stream",
          "name": "stdout",
          "text": [
            "0 tic\n",
            "1 tac\n",
            "2 toe\n"
          ]
        }
      ]
    },
    {
      "cell_type": "code",
      "source": [
        "mylist = [\"a\",\"b\",\"c\",\"d\"]\n",
        "list(enumerate(mylist))"
      ],
      "metadata": {
        "colab": {
          "base_uri": "https://localhost:8080/"
        },
        "id": "S2g4YSTnItib",
        "outputId": "dfb0cb34-2d2e-41a7-a2ad-3e925819b3de"
      },
      "execution_count": 29,
      "outputs": [
        {
          "output_type": "execute_result",
          "data": {
            "text/plain": [
              "[(0, 'a'), (1, 'b'), (2, 'c'), (3, 'd')]"
            ]
          },
          "metadata": {},
          "execution_count": 29
        }
      ]
    },
    {
      "cell_type": "code",
      "source": [
        "{i:j for i,j in enumerate('Gachon University is an academic institute located in South Korea.'.split())}"
      ],
      "metadata": {
        "colab": {
          "base_uri": "https://localhost:8080/"
        },
        "id": "G3uPON7sI0Uk",
        "outputId": "c1d98d91-636c-433b-d04a-1ab018e7ec06"
      },
      "execution_count": 30,
      "outputs": [
        {
          "output_type": "execute_result",
          "data": {
            "text/plain": [
              "{0: 'Gachon',\n",
              " 1: 'University',\n",
              " 2: 'is',\n",
              " 3: 'an',\n",
              " 4: 'academic',\n",
              " 5: 'institute',\n",
              " 6: 'located',\n",
              " 7: 'in',\n",
              " 8: 'South',\n",
              " 9: 'Korea.'}"
            ]
          },
          "metadata": {},
          "execution_count": 30
        }
      ]
    },
    {
      "cell_type": "markdown",
      "source": [
        "#####Zip"
      ],
      "metadata": {
        "id": "97jW0txpJPKy"
      }
    },
    {
      "cell_type": "code",
      "source": [
        "alist = ['a1', 'a2', 'a3']\n",
        "blist = ['b1', 'b2', 'b3']\n",
        "\n",
        "for a, b in zip(alist, blist):\n",
        "    print(a,b)"
      ],
      "metadata": {
        "colab": {
          "base_uri": "https://localhost:8080/"
        },
        "id": "Rktn7k6uJQOJ",
        "outputId": "cfdd26b8-e1c0-4f64-bbe7-12b0419ce2e4"
      },
      "execution_count": 31,
      "outputs": [
        {
          "output_type": "stream",
          "name": "stdout",
          "text": [
            "a1 b1\n",
            "a2 b2\n",
            "a3 b3\n"
          ]
        }
      ]
    },
    {
      "cell_type": "code",
      "source": [
        "a, b, c = zip((1,2,3),(10,20,30),(100,200,300))\n",
        "\n",
        "print(a)\n",
        "print(b)\n",
        "print(c)"
      ],
      "metadata": {
        "colab": {
          "base_uri": "https://localhost:8080/"
        },
        "id": "7N8nDye-Jb7Z",
        "outputId": "29459a9f-cc2d-408e-8ef4-ceeb8543cde8"
      },
      "execution_count": 33,
      "outputs": [
        {
          "output_type": "stream",
          "name": "stdout",
          "text": [
            "(1, 10, 100)\n",
            "(2, 20, 200)\n",
            "(3, 30, 300)\n"
          ]
        }
      ]
    },
    {
      "cell_type": "code",
      "source": [
        "[sum(x) for x in zip((1,2,3),(10,20,30),(100,200,300))]"
      ],
      "metadata": {
        "colab": {
          "base_uri": "https://localhost:8080/"
        },
        "id": "XStbMBfWJhKh",
        "outputId": "428dc8dc-6b8b-4a06-c78d-592440b24bae"
      },
      "execution_count": 34,
      "outputs": [
        {
          "output_type": "execute_result",
          "data": {
            "text/plain": [
              "[111, 222, 333]"
            ]
          },
          "metadata": {},
          "execution_count": 34
        }
      ]
    },
    {
      "cell_type": "code",
      "source": [
        "alist = ['a1', 'a2', 'a3']\n",
        "blist = ['b1', 'b2', 'b3']"
      ],
      "metadata": {
        "id": "u4occdSXJnRB"
      },
      "execution_count": 35,
      "outputs": []
    },
    {
      "cell_type": "code",
      "source": [
        "for i, (a, b) in enumerate(zip(alist, blist)):\n",
        "    print(i, a, b)"
      ],
      "metadata": {
        "colab": {
          "base_uri": "https://localhost:8080/"
        },
        "id": "1qXLTE9ZJs6y",
        "outputId": "295a9cff-7b3a-4d64-af65-730d3b672e02"
      },
      "execution_count": 36,
      "outputs": [
        {
          "output_type": "stream",
          "name": "stdout",
          "text": [
            "0 a1 b1\n",
            "1 a2 b2\n",
            "2 a3 b3\n"
          ]
        }
      ]
    },
    {
      "cell_type": "markdown",
      "source": [
        "#Lambda & MapReduce"
      ],
      "metadata": {
        "id": "jCVfSKHyEuxh"
      }
    },
    {
      "cell_type": "markdown",
      "source": [
        "#####Lambda"
      ],
      "metadata": {
        "id": "5OA26YmRSsNr"
      }
    },
    {
      "cell_type": "code",
      "source": [
        "# General Function\n",
        "def f(x, y):\n",
        "    return x + y\n",
        "\n",
        "print(f(1,4))"
      ],
      "metadata": {
        "colab": {
          "base_uri": "https://localhost:8080/"
        },
        "id": "6LO7q5e_SpGV",
        "outputId": "258101a6-7a7a-45ae-ad85-4124d29869ff"
      },
      "execution_count": 37,
      "outputs": [
        {
          "output_type": "stream",
          "name": "stdout",
          "text": [
            "5\n"
          ]
        }
      ]
    },
    {
      "cell_type": "code",
      "source": [
        "# Lambda Function\n",
        "f = lambda x, y : x + y\n",
        "print(f(1, 4))"
      ],
      "metadata": {
        "colab": {
          "base_uri": "https://localhost:8080/"
        },
        "id": "oISboI4oS3Cd",
        "outputId": "1d6ec583-4ab7-4f5b-a457-e7a64fac9a71"
      },
      "execution_count": 38,
      "outputs": [
        {
          "output_type": "stream",
          "name": "stdout",
          "text": [
            "5\n"
          ]
        }
      ]
    },
    {
      "cell_type": "code",
      "source": [
        "f = lambda x, y : x + y\n",
        "print(f(1,4))"
      ],
      "metadata": {
        "colab": {
          "base_uri": "https://localhost:8080/"
        },
        "id": "R1JQjSJFS9NB",
        "outputId": "39824eab-1bbe-4186-d1a3-055a68de5eb9"
      },
      "execution_count": 39,
      "outputs": [
        {
          "output_type": "stream",
          "name": "stdout",
          "text": [
            "5\n"
          ]
        }
      ]
    },
    {
      "cell_type": "code",
      "source": [
        "f = lambda x : x ** 2\n",
        "print(f(3))"
      ],
      "metadata": {
        "colab": {
          "base_uri": "https://localhost:8080/"
        },
        "id": "y5A7oilCTCEw",
        "outputId": "4bdce052-b930-428f-a5d1-ecf8a0f1cf24"
      },
      "execution_count": 42,
      "outputs": [
        {
          "output_type": "stream",
          "name": "stdout",
          "text": [
            "9\n"
          ]
        }
      ]
    },
    {
      "cell_type": "code",
      "source": [
        "f = lambda x : x / 2\n",
        "print(f(3))"
      ],
      "metadata": {
        "colab": {
          "base_uri": "https://localhost:8080/"
        },
        "id": "eebNVlBXTI8C",
        "outputId": "60d7857b-3571-4e37-da32-be9c19f87424"
      },
      "execution_count": 43,
      "outputs": [
        {
          "output_type": "stream",
          "name": "stdout",
          "text": [
            "1.5\n"
          ]
        }
      ]
    },
    {
      "cell_type": "code",
      "source": [
        "print((lambda x : x + 1)(5))"
      ],
      "metadata": {
        "colab": {
          "base_uri": "https://localhost:8080/"
        },
        "id": "navXLjWMTNuJ",
        "outputId": "8a0d5ac8-2860-44be-c104-c91c500fbc5b"
      },
      "execution_count": 44,
      "outputs": [
        {
          "output_type": "stream",
          "name": "stdout",
          "text": [
            "6\n"
          ]
        }
      ]
    },
    {
      "cell_type": "markdown",
      "source": [
        "#####Map & Reduce"
      ],
      "metadata": {
        "id": "NMMqQXO3TTte"
      }
    },
    {
      "cell_type": "code",
      "source": [
        "ex = [1,2,3,4,5]\n",
        "f = lambda x : x**2\n",
        "print(list(map(f,ex)))"
      ],
      "metadata": {
        "colab": {
          "base_uri": "https://localhost:8080/"
        },
        "id": "kQWa1vuiTXvx",
        "outputId": "a97bd3c0-1ddb-4a3b-cc6e-94a607f61f24"
      },
      "execution_count": 45,
      "outputs": [
        {
          "output_type": "stream",
          "name": "stdout",
          "text": [
            "[1, 4, 9, 16, 25]\n"
          ]
        }
      ]
    },
    {
      "cell_type": "code",
      "source": [
        "f = lambda x, y : x + y\n",
        "print(list(map(f, ex, ex)))"
      ],
      "metadata": {
        "colab": {
          "base_uri": "https://localhost:8080/"
        },
        "id": "nLyjSwcfTseB",
        "outputId": "97db9e8a-ede9-4d95-a758-771b0d6e8e72"
      },
      "execution_count": 46,
      "outputs": [
        {
          "output_type": "stream",
          "name": "stdout",
          "text": [
            "[2, 4, 6, 8, 10]\n"
          ]
        }
      ]
    },
    {
      "cell_type": "code",
      "source": [
        "ex = [1,2,3,4,5]\n",
        "f = lambda x, y : x + y\n",
        "print(list(map(f, ex, ex)))"
      ],
      "metadata": {
        "colab": {
          "base_uri": "https://localhost:8080/"
        },
        "id": "W2GFLEABUc32",
        "outputId": "5567b0e4-459f-44f0-b232-ac10405bf59b"
      },
      "execution_count": 48,
      "outputs": [
        {
          "output_type": "stream",
          "name": "stdout",
          "text": [
            "[2, 4, 6, 8, 10]\n"
          ]
        }
      ]
    },
    {
      "cell_type": "code",
      "source": [
        "list(map(lambda x : x ** 2 if x % 2 == 0 else x, ex))"
      ],
      "metadata": {
        "colab": {
          "base_uri": "https://localhost:8080/"
        },
        "id": "pyaY8FXrUrt2",
        "outputId": "cd64e23f-3c05-4b48-ab58-d149fad30df7"
      },
      "execution_count": 49,
      "outputs": [
        {
          "output_type": "execute_result",
          "data": {
            "text/plain": [
              "[1, 4, 3, 16, 5]"
            ]
          },
          "metadata": {},
          "execution_count": 49
        }
      ]
    },
    {
      "cell_type": "code",
      "source": [
        "ex = [1,2,3,4,5]\n",
        "print(list(map(lambda x:x+x, ex)))\n",
        "print((map(lambda x: x+x, ex)))\n",
        "\n",
        "f = lambda x : x **2\n",
        "print(map(f, ex))\n",
        "for i in map(f, ex):\n",
        "    print(i)\n",
        "\n",
        "result = map(f,ex)\n",
        "print(next(result))"
      ],
      "metadata": {
        "colab": {
          "base_uri": "https://localhost:8080/"
        },
        "id": "JvngE8DfUwSA",
        "outputId": "2724731e-ec4a-4587-fa4a-d71a472d8da0"
      },
      "execution_count": 52,
      "outputs": [
        {
          "output_type": "stream",
          "name": "stdout",
          "text": [
            "[2, 4, 6, 8, 10]\n",
            "<map object at 0x7f4b45baa610>\n",
            "<map object at 0x7f4b45baa110>\n",
            "1\n",
            "4\n",
            "9\n",
            "16\n",
            "25\n",
            "1\n"
          ]
        }
      ]
    },
    {
      "cell_type": "code",
      "source": [
        "from functools import reduce\n",
        "\n",
        "print(reduce(lambda x, y : x + y, [1,2,3,4,5]))"
      ],
      "metadata": {
        "colab": {
          "base_uri": "https://localhost:8080/"
        },
        "id": "K9xoXi_1V24h",
        "outputId": "40391872-8b5b-4a37-ab5c-8cb1d1e5ba76"
      },
      "execution_count": 53,
      "outputs": [
        {
          "output_type": "stream",
          "name": "stdout",
          "text": [
            "15\n"
          ]
        }
      ]
    },
    {
      "cell_type": "markdown",
      "source": [
        "#Asterisk"
      ],
      "metadata": {
        "id": "qMzcQE1PEy25"
      }
    },
    {
      "cell_type": "code",
      "source": [
        "# *arg\n",
        "def asterisk_test(a, *args):\n",
        "    print(a, args)\n",
        "    print(type(args))\n",
        "\n",
        "asterisk_test(1,2,3,4,5,6)"
      ],
      "metadata": {
        "colab": {
          "base_uri": "https://localhost:8080/"
        },
        "id": "Ms_xwek-YMKf",
        "outputId": "e0ebe85d-7e7a-451f-97f8-8cee1a145140"
      },
      "execution_count": 55,
      "outputs": [
        {
          "output_type": "stream",
          "name": "stdout",
          "text": [
            "1 (2, 3, 4, 5, 6)\n",
            "<class 'tuple'>\n"
          ]
        }
      ]
    },
    {
      "cell_type": "code",
      "source": [
        "# **kargs\n",
        "def asterisk_test(a, **kargs):\n",
        "    print(a, kargs)\n",
        "    print(type(kargs))\n",
        "\n",
        "asterisk_test(1, b=2, c=3, d=4, e=5, f=6)"
      ],
      "metadata": {
        "colab": {
          "base_uri": "https://localhost:8080/"
        },
        "id": "kySQ6X9kYaSw",
        "outputId": "0b10034f-1100-449a-c8d2-7cf42b4cf62b"
      },
      "execution_count": 56,
      "outputs": [
        {
          "output_type": "stream",
          "name": "stdout",
          "text": [
            "1 {'b': 2, 'c': 3, 'd': 4, 'e': 5, 'f': 6}\n",
            "<class 'dict'>\n"
          ]
        }
      ]
    },
    {
      "cell_type": "code",
      "source": [
        "def asterisk_test(a, *args):\n",
        "    print(a, args)\n",
        "    print(type(args))\n",
        "\n",
        "asterisk_test(1, *(2,3,4,5,6))"
      ],
      "metadata": {
        "colab": {
          "base_uri": "https://localhost:8080/"
        },
        "id": "M2gJ9px6YtaZ",
        "outputId": "4c5b2c30-c136-41b4-d122-563ed899bf10"
      },
      "execution_count": 57,
      "outputs": [
        {
          "output_type": "stream",
          "name": "stdout",
          "text": [
            "1 (2, 3, 4, 5, 6)\n",
            "<class 'tuple'>\n"
          ]
        }
      ]
    },
    {
      "cell_type": "code",
      "source": [
        "def asterisk_test(a, args):\n",
        "    print(a, *args)\n",
        "    print(type(args))\n",
        "\n",
        "asterisk_test(1, (2,3,4,5,6))"
      ],
      "metadata": {
        "colab": {
          "base_uri": "https://localhost:8080/"
        },
        "id": "a4c0sGrGY90h",
        "outputId": "c0e9eb2c-c32d-43a2-b746-7ee5d7dfa56b"
      },
      "execution_count": 58,
      "outputs": [
        {
          "output_type": "stream",
          "name": "stdout",
          "text": [
            "1 2 3 4 5 6\n",
            "<class 'tuple'>\n"
          ]
        }
      ]
    },
    {
      "cell_type": "code",
      "source": [
        "a, b, c = ([1,2],[3,4],[5,6])\n",
        "print(a, b, c)\n",
        "\n",
        "data = ([1,2,],[3,4],[5,6])\n",
        "print(*data)"
      ],
      "metadata": {
        "colab": {
          "base_uri": "https://localhost:8080/"
        },
        "id": "-qyBy7agZVkS",
        "outputId": "870489e8-d7f8-43b3-8ab0-0d2b3cad119f"
      },
      "execution_count": 59,
      "outputs": [
        {
          "output_type": "stream",
          "name": "stdout",
          "text": [
            "[1, 2] [3, 4] [5, 6]\n",
            "[1, 2] [3, 4] [5, 6]\n"
          ]
        }
      ]
    },
    {
      "cell_type": "code",
      "source": [
        "def asterisk_test(a, b, c, d,):\n",
        "    print(a, b, c, d)\n",
        "\n",
        "data = {\"b\":1 , \"c\":2, \"d\":3}\n",
        "asterisk_test(10, **data)"
      ],
      "metadata": {
        "colab": {
          "base_uri": "https://localhost:8080/"
        },
        "id": "h80fBsCGZgDm",
        "outputId": "76fd41b4-d745-4ee1-fc40-9b4da4bb87b5"
      },
      "execution_count": 60,
      "outputs": [
        {
          "output_type": "stream",
          "name": "stdout",
          "text": [
            "10 1 2 3\n"
          ]
        }
      ]
    }
  ]
}