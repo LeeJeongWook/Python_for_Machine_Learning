{
  "nbformat": 4,
  "nbformat_minor": 0,
  "metadata": {
    "colab": {
      "name": "Data_Structure.ipynb",
      "provenance": [],
      "collapsed_sections": []
    },
    "kernelspec": {
      "name": "python3",
      "display_name": "Python 3"
    },
    "language_info": {
      "name": "python"
    }
  },
  "cells": [
    {
      "cell_type": "markdown",
      "source": [
        "#Collections"
      ],
      "metadata": {
        "id": "4052UvCiapDQ"
      }
    },
    {
      "cell_type": "code",
      "source": [
        "from collections import deque\n",
        "from collections import Counter\n",
        "from collections import OrderedDict\n",
        "from collections import defaultdict\n",
        "from collections import namedtuple"
      ],
      "metadata": {
        "id": "ZnJol3GgEnyt"
      },
      "execution_count": 1,
      "outputs": []
    },
    {
      "cell_type": "markdown",
      "source": [
        "#deque"
      ],
      "metadata": {
        "id": "81iAAC2sa1AC"
      }
    },
    {
      "cell_type": "code",
      "source": [
        "from collections import deque\n",
        "\n",
        "deque_list = deque()\n",
        "for i in range(5):\n",
        "    deque_list.append(i)\n",
        "print(deque_list)"
      ],
      "metadata": {
        "colab": {
          "base_uri": "https://localhost:8080/"
        },
        "id": "GAo86T2ha2OS",
        "outputId": "b77f4051-f5ef-49e1-aa51-4d97e222d2d4"
      },
      "execution_count": 2,
      "outputs": [
        {
          "output_type": "stream",
          "name": "stdout",
          "text": [
            "deque([0, 1, 2, 3, 4])\n"
          ]
        }
      ]
    },
    {
      "cell_type": "code",
      "source": [
        "deque_list.appendleft(10)\n",
        "print(deque_list)"
      ],
      "metadata": {
        "colab": {
          "base_uri": "https://localhost:8080/"
        },
        "id": "Ug7AEQ-lbEBj",
        "outputId": "420833b8-4ed9-4fa4-bbad-70b9bd9b8aaa"
      },
      "execution_count": 3,
      "outputs": [
        {
          "output_type": "stream",
          "name": "stdout",
          "text": [
            "deque([10, 0, 1, 2, 3, 4])\n"
          ]
        }
      ]
    },
    {
      "cell_type": "code",
      "source": [
        "deque_list.rotate(2)\n",
        "print(deque_list)\n",
        "deque_list.rotate(2)\n",
        "print(deque_list)"
      ],
      "metadata": {
        "id": "DafDdz9HbLm9",
        "colab": {
          "base_uri": "https://localhost:8080/"
        },
        "outputId": "6e7f4778-ab28-4793-bf6f-4e126281672d"
      },
      "execution_count": 4,
      "outputs": [
        {
          "output_type": "stream",
          "name": "stdout",
          "text": [
            "deque([3, 4, 10, 0, 1, 2])\n",
            "deque([1, 2, 3, 4, 10, 0])\n"
          ]
        }
      ]
    },
    {
      "cell_type": "code",
      "source": [
        "deque_list.extend([5,6,7])\n",
        "print(deque_list)"
      ],
      "metadata": {
        "colab": {
          "base_uri": "https://localhost:8080/"
        },
        "id": "I3R298DHeg-d",
        "outputId": "2bbee7d4-e74f-4dbc-b467-cbacd40e3f97"
      },
      "execution_count": 5,
      "outputs": [
        {
          "output_type": "stream",
          "name": "stdout",
          "text": [
            "deque([1, 2, 3, 4, 10, 0, 5, 6, 7])\n"
          ]
        }
      ]
    },
    {
      "cell_type": "code",
      "source": [
        "deque_list.extendleft([5,6,7])\n",
        "print(deque_list)"
      ],
      "metadata": {
        "colab": {
          "base_uri": "https://localhost:8080/"
        },
        "id": "bqYUnpZLevPg",
        "outputId": "1fea332f-9326-4e5e-f718-6e84ffff6ab8"
      },
      "execution_count": 6,
      "outputs": [
        {
          "output_type": "stream",
          "name": "stdout",
          "text": [
            "deque([7, 6, 5, 1, 2, 3, 4, 10, 0, 5, 6, 7])\n"
          ]
        }
      ]
    },
    {
      "cell_type": "code",
      "source": [
        "print(deque_list)\n",
        "print(deque(reversed(deque_list)))"
      ],
      "metadata": {
        "colab": {
          "base_uri": "https://localhost:8080/"
        },
        "id": "N_OXSlNheySA",
        "outputId": "668ba832-eaea-4194-8ec8-2ff711904899"
      },
      "execution_count": 7,
      "outputs": [
        {
          "output_type": "stream",
          "name": "stdout",
          "text": [
            "deque([7, 6, 5, 1, 2, 3, 4, 10, 0, 5, 6, 7])\n",
            "deque([7, 6, 5, 0, 10, 4, 3, 2, 1, 5, 6, 7])\n"
          ]
        }
      ]
    },
    {
      "cell_type": "markdown",
      "source": [
        "- deque는 기존 list보다 효율적인 자료구조를 제공\n",
        "- 효율적 메모리 구조로 처리 속도 향상"
      ],
      "metadata": {
        "id": "FbW0s4pge7u0"
      }
    },
    {
      "cell_type": "code",
      "source": [
        "# deque\n",
        "from collections import deque\n",
        "import time\n",
        "\n",
        "start_time = time.clock()\n",
        "deque_list = deque()\n",
        "# Stack\n",
        "for i in range(10000):\n",
        "    for i in range(10000):\n",
        "        deque_list.append(i)\n",
        "        deque_list.pop()\n",
        "print(time.clock() - start_time, \"seconds\")"
      ],
      "metadata": {
        "colab": {
          "base_uri": "https://localhost:8080/"
        },
        "id": "HFvTuWGVe_43",
        "outputId": "24adfa9b-a2b6-4637-8bb1-76b6ccf22877"
      },
      "execution_count": 8,
      "outputs": [
        {
          "output_type": "stream",
          "name": "stderr",
          "text": [
            "/usr/local/lib/python3.7/dist-packages/ipykernel_launcher.py:5: DeprecationWarning: time.clock has been deprecated in Python 3.3 and will be removed from Python 3.8: use time.perf_counter or time.process_time instead\n",
            "  \"\"\"\n"
          ]
        },
        {
          "output_type": "stream",
          "name": "stdout",
          "text": [
            "19.195532 seconds\n"
          ]
        },
        {
          "output_type": "stream",
          "name": "stderr",
          "text": [
            "/usr/local/lib/python3.7/dist-packages/ipykernel_launcher.py:12: DeprecationWarning: time.clock has been deprecated in Python 3.3 and will be removed from Python 3.8: use time.perf_counter or time.process_time instead\n",
            "  if sys.path[0] == '':\n"
          ]
        }
      ]
    },
    {
      "cell_type": "code",
      "source": [
        "# general list\n",
        "import time\n",
        "\n",
        "start_time = time.clock()\n",
        "just_list = []\n",
        "for i in range(10000):\n",
        "    for i in range(10000):\n",
        "        just_list.append(i)\n",
        "        just_list.pop()\n",
        "print(time.clock() - start_time, \"seconds\")"
      ],
      "metadata": {
        "colab": {
          "base_uri": "https://localhost:8080/"
        },
        "id": "FEkUFRHWfarA",
        "outputId": "4733221f-e0ae-4f03-fe75-49f7299ab8fe"
      },
      "execution_count": 9,
      "outputs": [
        {
          "output_type": "stream",
          "name": "stderr",
          "text": [
            "/usr/local/lib/python3.7/dist-packages/ipykernel_launcher.py:4: DeprecationWarning: time.clock has been deprecated in Python 3.3 and will be removed from Python 3.8: use time.perf_counter or time.process_time instead\n",
            "  after removing the cwd from sys.path.\n"
          ]
        },
        {
          "output_type": "stream",
          "name": "stdout",
          "text": [
            "26.644467 seconds\n"
          ]
        },
        {
          "output_type": "stream",
          "name": "stderr",
          "text": [
            "/usr/local/lib/python3.7/dist-packages/ipykernel_launcher.py:10: DeprecationWarning: time.clock has been deprecated in Python 3.3 and will be removed from Python 3.8: use time.perf_counter or time.process_time instead\n",
            "  # Remove the CWD from sys.path while we load stuff.\n"
          ]
        }
      ]
    },
    {
      "cell_type": "markdown",
      "source": [
        "#OrderedDict"
      ],
      "metadata": {
        "id": "W_D1hqBLfwvE"
      }
    },
    {
      "cell_type": "markdown",
      "source": [
        "- Dict와 달리, 데이터를 입력한 순서대로 dict를 반환함"
      ],
      "metadata": {
        "id": "HOvMYaj1f7GI"
      }
    },
    {
      "cell_type": "code",
      "source": [
        "d = {}\n",
        "d['x'] = 100\n",
        "d['y'] = 200\n",
        "d['z'] = 300\n",
        "d['l'] = 500"
      ],
      "metadata": {
        "id": "VERAuPRIg9yc"
      },
      "execution_count": 10,
      "outputs": []
    },
    {
      "cell_type": "code",
      "source": [
        "print(d)"
      ],
      "metadata": {
        "colab": {
          "base_uri": "https://localhost:8080/"
        },
        "id": "TX4B0vQ664w3",
        "outputId": "e9536ad3-8561-4299-f626-ca0662c95b46"
      },
      "execution_count": 11,
      "outputs": [
        {
          "output_type": "stream",
          "name": "stdout",
          "text": [
            "{'x': 100, 'y': 200, 'z': 300, 'l': 500}\n"
          ]
        }
      ]
    },
    {
      "cell_type": "code",
      "source": [
        "for k, v in d.items():\n",
        "    print(k, v)"
      ],
      "metadata": {
        "colab": {
          "base_uri": "https://localhost:8080/"
        },
        "id": "895VPmJ9f5W5",
        "outputId": "fa173890-6277-476c-8341-a816537f09ba"
      },
      "execution_count": 12,
      "outputs": [
        {
          "output_type": "stream",
          "name": "stdout",
          "text": [
            "x 100\n",
            "y 200\n",
            "z 300\n",
            "l 500\n"
          ]
        }
      ]
    },
    {
      "cell_type": "code",
      "source": [
        "from collections import OrderedDict\n",
        "\n",
        "d = OrderedDict()\n",
        "d['x'] = 100\n",
        "d['y'] = 200\n",
        "d['z'] = 300\n",
        "d['l'] = 500"
      ],
      "metadata": {
        "id": "w8e6B6wIhR9w"
      },
      "execution_count": 13,
      "outputs": []
    },
    {
      "cell_type": "code",
      "source": [
        "for k, v in d.items():\n",
        "    print(k, v)"
      ],
      "metadata": {
        "colab": {
          "base_uri": "https://localhost:8080/"
        },
        "id": "MNYwmyhJhS63",
        "outputId": "bea14d3b-7ec6-4989-83a1-aabca8c3d8bd"
      },
      "execution_count": 14,
      "outputs": [
        {
          "output_type": "stream",
          "name": "stdout",
          "text": [
            "x 100\n",
            "y 200\n",
            "z 300\n",
            "l 500\n"
          ]
        }
      ]
    },
    {
      "cell_type": "code",
      "source": [
        "dic = {}\n",
        "dic['x'] = 100\n",
        "dic['y'] = 200\n",
        "dic['z'] = 500\n",
        "dic['l'] = 300\n",
        "print(dic)"
      ],
      "metadata": {
        "colab": {
          "base_uri": "https://localhost:8080/"
        },
        "id": "DRWssd-k7VBD",
        "outputId": "f59f5891-1874-493c-f3ef-de37318a1ac2"
      },
      "execution_count": 15,
      "outputs": [
        {
          "output_type": "stream",
          "name": "stdout",
          "text": [
            "{'x': 100, 'y': 200, 'z': 500, 'l': 300}\n"
          ]
        }
      ]
    },
    {
      "cell_type": "code",
      "source": [
        "for k, v in OrderedDict(sorted(d.items(), key=lambda t:t[0])).items():\n",
        "    print(k, v)"
      ],
      "metadata": {
        "colab": {
          "base_uri": "https://localhost:8080/"
        },
        "id": "reQbonAU7fdT",
        "outputId": "68770774-942a-4501-e4d1-a43917a01796"
      },
      "execution_count": 16,
      "outputs": [
        {
          "output_type": "stream",
          "name": "stdout",
          "text": [
            "l 500\n",
            "x 100\n",
            "y 200\n",
            "z 300\n"
          ]
        }
      ]
    },
    {
      "cell_type": "code",
      "source": [
        "for k, v in OrderedDict(sorted(d.items(), key=lambda t:t[1])).items():\n",
        "    print(k, v)"
      ],
      "metadata": {
        "colab": {
          "base_uri": "https://localhost:8080/"
        },
        "id": "92muXDAm7042",
        "outputId": "5307a5a0-dbf0-4a8f-f39d-64c968da7b55"
      },
      "execution_count": 17,
      "outputs": [
        {
          "output_type": "stream",
          "name": "stdout",
          "text": [
            "x 100\n",
            "y 200\n",
            "z 300\n",
            "l 500\n"
          ]
        }
      ]
    },
    {
      "cell_type": "markdown",
      "source": [
        "#####Defaultdict"
      ],
      "metadata": {
        "id": "t7HmR_v98Fhu"
      }
    },
    {
      "cell_type": "code",
      "source": [
        "d = dict()\n",
        "print(d[\"first\"])"
      ],
      "metadata": {
        "colab": {
          "base_uri": "https://localhost:8080/",
          "height": 193
        },
        "id": "tzOg5GJM8E_V",
        "outputId": "455db7db-f4db-409d-a23f-f6e0455247ca"
      },
      "execution_count": 19,
      "outputs": [
        {
          "output_type": "error",
          "ename": "KeyError",
          "evalue": "ignored",
          "traceback": [
            "\u001b[0;31m---------------------------------------------------------------------------\u001b[0m",
            "\u001b[0;31mKeyError\u001b[0m                                  Traceback (most recent call last)",
            "\u001b[0;32m<ipython-input-19-3b4ee8f5b4c3>\u001b[0m in \u001b[0;36m<module>\u001b[0;34m()\u001b[0m\n\u001b[1;32m      1\u001b[0m \u001b[0md\u001b[0m \u001b[0;34m=\u001b[0m \u001b[0mdict\u001b[0m\u001b[0;34m(\u001b[0m\u001b[0;34m)\u001b[0m\u001b[0;34m\u001b[0m\u001b[0;34m\u001b[0m\u001b[0m\n\u001b[0;32m----> 2\u001b[0;31m \u001b[0mprint\u001b[0m\u001b[0;34m(\u001b[0m\u001b[0md\u001b[0m\u001b[0;34m[\u001b[0m\u001b[0;34m\"first\"\u001b[0m\u001b[0;34m]\u001b[0m\u001b[0;34m)\u001b[0m\u001b[0;34m\u001b[0m\u001b[0;34m\u001b[0m\u001b[0m\n\u001b[0m",
            "\u001b[0;31mKeyError\u001b[0m: 'first'"
          ]
        }
      ]
    },
    {
      "cell_type": "code",
      "source": [
        "from collections import defaultdict\n",
        "\n",
        "d = defaultdict(object)\n",
        "d = defaultdict(lambda: 0)\n",
        "print(d[\"first\"])"
      ],
      "metadata": {
        "colab": {
          "base_uri": "https://localhost:8080/"
        },
        "id": "JV7ZpPeN8PiQ",
        "outputId": "475a2c77-659c-4af5-fafd-ba135223740e"
      },
      "execution_count": 20,
      "outputs": [
        {
          "output_type": "stream",
          "name": "stdout",
          "text": [
            "0\n"
          ]
        }
      ]
    },
    {
      "cell_type": "code",
      "source": [
        "text = \"\"\"A press release is the quickest and easiest way to get free\n",
        "publicity. If well written, a press release can result in multiple\n",
        "published articles about your firm and its products. And that can mean\n",
        "new prospects contacting you asking you to sell to them.\n",
        "….\"\"\".lower().split()\n",
        "\n",
        "print(text)"
      ],
      "metadata": {
        "colab": {
          "base_uri": "https://localhost:8080/"
        },
        "id": "DQgIlT6x8k8o",
        "outputId": "9d754be0-4ede-4625-fc8e-a4e4a6d8ffb5"
      },
      "execution_count": 21,
      "outputs": [
        {
          "output_type": "stream",
          "name": "stdout",
          "text": [
            "['a', 'press', 'release', 'is', 'the', 'quickest', 'and', 'easiest', 'way', 'to', 'get', 'free', 'publicity.', 'if', 'well', 'written,', 'a', 'press', 'release', 'can', 'result', 'in', 'multiple', 'published', 'articles', 'about', 'your', 'firm', 'and', 'its', 'products.', 'and', 'that', 'can', 'mean', 'new', 'prospects', 'contacting', 'you', 'asking', 'you', 'to', 'sell', 'to', 'them.', '….']\n"
          ]
        }
      ]
    },
    {
      "cell_type": "code",
      "source": [
        "from collections import OrderedDict\n",
        "word_count = defaultdict(object)\n",
        "print(word_count)\n",
        "word_count = defaultdict(lambda: 0)\n",
        "for word in text:\n",
        "    word_count[word] += 1\n",
        "\n",
        "for i, v in OrderedDict(sorted(word_count.items(), key=lambda t: t[1], reverse=True)).items():\n",
        "    print(i, v)"
      ],
      "metadata": {
        "colab": {
          "base_uri": "https://localhost:8080/"
        },
        "id": "iBFsvNYg8qCh",
        "outputId": "93a93ef7-0719-4d23-9489-b810c7a03f50"
      },
      "execution_count": 22,
      "outputs": [
        {
          "output_type": "stream",
          "name": "stdout",
          "text": [
            "defaultdict(<class 'object'>, {})\n",
            "and 3\n",
            "to 3\n",
            "a 2\n",
            "press 2\n",
            "release 2\n",
            "can 2\n",
            "you 2\n",
            "is 1\n",
            "the 1\n",
            "quickest 1\n",
            "easiest 1\n",
            "way 1\n",
            "get 1\n",
            "free 1\n",
            "publicity. 1\n",
            "if 1\n",
            "well 1\n",
            "written, 1\n",
            "result 1\n",
            "in 1\n",
            "multiple 1\n",
            "published 1\n",
            "articles 1\n",
            "about 1\n",
            "your 1\n",
            "firm 1\n",
            "its 1\n",
            "products. 1\n",
            "that 1\n",
            "mean 1\n",
            "new 1\n",
            "prospects 1\n",
            "contacting 1\n",
            "asking 1\n",
            "sell 1\n",
            "them. 1\n",
            "…. 1\n"
          ]
        }
      ]
    },
    {
      "cell_type": "markdown",
      "source": [
        "#####Counter"
      ],
      "metadata": {
        "id": "ZelJerfQ9pfh"
      }
    },
    {
      "cell_type": "code",
      "source": [
        "from collections import Counter\n",
        "\n",
        "# c = Counter()\n",
        "c = Counter('gallahad')\n",
        "print(c)"
      ],
      "metadata": {
        "colab": {
          "base_uri": "https://localhost:8080/"
        },
        "id": "jbXKk-Cn9orM",
        "outputId": "5a170594-b8b9-47b0-eab9-04cf0681fed5"
      },
      "execution_count": 23,
      "outputs": [
        {
          "output_type": "stream",
          "name": "stdout",
          "text": [
            "Counter({'a': 3, 'l': 2, 'g': 1, 'h': 1, 'd': 1})\n"
          ]
        }
      ]
    },
    {
      "cell_type": "code",
      "source": [
        "c = Counter({'red':4, 'blue':2})\n",
        "print(c)\n",
        "print(list(c.elements()))"
      ],
      "metadata": {
        "colab": {
          "base_uri": "https://localhost:8080/"
        },
        "id": "drH2wYUS96Et",
        "outputId": "1f2f1137-fb8e-4842-a17c-9366ae3207a7"
      },
      "execution_count": 24,
      "outputs": [
        {
          "output_type": "stream",
          "name": "stdout",
          "text": [
            "Counter({'red': 4, 'blue': 2})\n",
            "['red', 'red', 'red', 'red', 'blue', 'blue']\n"
          ]
        }
      ]
    },
    {
      "cell_type": "code",
      "source": [
        "c = Counter(cats=4, dogs=8)\n",
        "print(c)\n",
        "print(list(c.elements()))"
      ],
      "metadata": {
        "colab": {
          "base_uri": "https://localhost:8080/"
        },
        "id": "IpH36Am2-EZ-",
        "outputId": "14ffa4d6-d711-4b4c-f6ad-47776b4b03f1"
      },
      "execution_count": 25,
      "outputs": [
        {
          "output_type": "stream",
          "name": "stdout",
          "text": [
            "Counter({'dogs': 8, 'cats': 4})\n",
            "['cats', 'cats', 'cats', 'cats', 'dogs', 'dogs', 'dogs', 'dogs', 'dogs', 'dogs', 'dogs', 'dogs']\n"
          ]
        }
      ]
    },
    {
      "cell_type": "code",
      "source": [
        "c = Counter(a=4, b=2, c=0, d=-2)\n",
        "d = Counter(a=1, b=2, c=3, d=4)\n",
        "c.subtract(d)\n",
        "print(c)"
      ],
      "metadata": {
        "colab": {
          "base_uri": "https://localhost:8080/"
        },
        "id": "_hNG3ycW-T-e",
        "outputId": "b40f0a87-329d-41a2-d707-bc7d1a5e7c9b"
      },
      "execution_count": 26,
      "outputs": [
        {
          "output_type": "stream",
          "name": "stdout",
          "text": [
            "Counter({'a': 3, 'b': 0, 'c': -3, 'd': -6})\n"
          ]
        }
      ]
    },
    {
      "cell_type": "code",
      "source": [
        "c = Counter(a=4, b=2, c=0, d=-2)\n",
        "d = Counter(a=1, b=2, c=3, d=4)\n",
        "print(c + d)\n",
        "print(c & d)\n",
        "print(c | d)"
      ],
      "metadata": {
        "colab": {
          "base_uri": "https://localhost:8080/"
        },
        "id": "7dYf2Ts3-i8d",
        "outputId": "675ae03a-ad13-4592-d773-10bd1bde4bcf"
      },
      "execution_count": 27,
      "outputs": [
        {
          "output_type": "stream",
          "name": "stdout",
          "text": [
            "Counter({'a': 5, 'b': 4, 'c': 3, 'd': 2})\n",
            "Counter({'b': 2, 'a': 1})\n",
            "Counter({'a': 4, 'd': 4, 'c': 3, 'b': 2})\n"
          ]
        }
      ]
    },
    {
      "cell_type": "code",
      "source": [
        "text = \"\"\"A press release is the quickest and easiest way to get free \n",
        "publicity. If well written, a press release can result in multiple \n",
        "published articles about your firm and its products. And that can mean \n",
        "new prospects contacting you asking you to sell to them. \n",
        "….\"\"\".lower().split()\n",
        "\n",
        "print(Counter(text))\n",
        "print(Counter(text)[\"a\"])"
      ],
      "metadata": {
        "colab": {
          "base_uri": "https://localhost:8080/"
        },
        "id": "-G1v6rJlY6Vf",
        "outputId": "8474a370-901e-4255-fce0-823170ac17ff"
      },
      "execution_count": 31,
      "outputs": [
        {
          "output_type": "stream",
          "name": "stdout",
          "text": [
            "Counter({'and': 3, 'to': 3, 'a': 2, 'press': 2, 'release': 2, 'can': 2, 'you': 2, 'is': 1, 'the': 1, 'quickest': 1, 'easiest': 1, 'way': 1, 'get': 1, 'free': 1, 'publicity.': 1, 'if': 1, 'well': 1, 'written,': 1, 'result': 1, 'in': 1, 'multiple': 1, 'published': 1, 'articles': 1, 'about': 1, 'your': 1, 'firm': 1, 'its': 1, 'products.': 1, 'that': 1, 'mean': 1, 'new': 1, 'prospects': 1, 'contacting': 1, 'asking': 1, 'sell': 1, 'them.': 1, '….': 1})\n",
            "2\n"
          ]
        }
      ]
    },
    {
      "cell_type": "markdown",
      "source": [
        "#Namedtuple"
      ],
      "metadata": {
        "id": "DA_MQ-42ZUrP"
      }
    },
    {
      "cell_type": "code",
      "source": [
        "from collections import namedtuple\n",
        "Point = namedtuple('Point', ['x', 'y'])\n",
        "p = Point(11, y=22)\n",
        "print(p[0] + p[1])"
      ],
      "metadata": {
        "colab": {
          "base_uri": "https://localhost:8080/"
        },
        "id": "jBxM9QGNZXvW",
        "outputId": "839268ed-8349-4883-db8b-ed7d0edea15a"
      },
      "execution_count": 32,
      "outputs": [
        {
          "output_type": "stream",
          "name": "stdout",
          "text": [
            "33\n"
          ]
        }
      ]
    },
    {
      "cell_type": "code",
      "source": [
        "x, y = p\n",
        "print(x, y)\n",
        "print(p.x + p.y)\n",
        "print(Point(x=11, y=22))"
      ],
      "metadata": {
        "colab": {
          "base_uri": "https://localhost:8080/"
        },
        "id": "lYhdeFoDZrGM",
        "outputId": "7d6e7e16-cd21-44b3-9e8a-7d56428bf0d2"
      },
      "execution_count": 33,
      "outputs": [
        {
          "output_type": "stream",
          "name": "stdout",
          "text": [
            "11 22\n",
            "33\n",
            "Point(x=11, y=22)\n"
          ]
        }
      ]
    },
    {
      "cell_type": "code",
      "source": [
        "from google.colab import drive\n",
        "drive.mount('/content/drive')"
      ],
      "metadata": {
        "colab": {
          "base_uri": "https://localhost:8080/"
        },
        "id": "Griy426scP88",
        "outputId": "41698bbd-1319-4cfa-91cd-34b88bd5dc3c"
      },
      "execution_count": 38,
      "outputs": [
        {
          "output_type": "stream",
          "name": "stdout",
          "text": [
            "Mounted at /content/drive\n"
          ]
        }
      ]
    },
    {
      "cell_type": "code",
      "source": [
        "from collections import namedtuple\n",
        "import csv\n",
        "\n",
        "f = open(\"/content/drive/MyDrive/Colab Notebooks/users.csv\", \"r\")\n",
        "next(f)\n",
        "reader = csv.reader(f)\n",
        "student_list = []\n",
        "for row in reader:\n",
        "    student_list.append(row)\n",
        "print(row)\n",
        "coloumns = [\"user_id\", \"integration_id\", \"login_id\", \"password\", \"first_name\",\"last_name\", \"full_name\", \"sortable_name\", \"short_name\",\"email\", \"status\"]\n",
        "Student = namedtuple('Student', \" \".join(coloumns))\n",
        "student_namedtupe_list = []\n",
        "for row in student_list:\n",
        "    student = Student(*row)\n",
        "    student_namedtupe_list.append(student)\n",
        "\n",
        "# print(student_namedtupe_list)\n",
        "for i in student_namedtupe_list:\n",
        "    print(i)\n",
        "print(student_namedtupe_list[0].full_name)\n"
      ],
      "metadata": {
        "colab": {
          "base_uri": "https://localhost:8080/"
        },
        "id": "Jb5VixbGeGyN",
        "outputId": "a1535dff-6709-4323-f981-47979c2db925"
      },
      "execution_count": 41,
      "outputs": [
        {
          "output_type": "stream",
          "name": "stdout",
          "text": [
            "['1555560', '', 'csoto', '', 'Corey', 'Soto', 'Corey Soto', 'Soto, Corey', 'Corey Soto', 'csoto@institution-name.edu', 'active']\n",
            "Student(user_id='1555551', integration_id='', login_id='lrice', password='', first_name='Lonnie', last_name='Rice', full_name='Lonnie Rice', sortable_name='Rice, Lonnie', short_name='Lonnie Rice', email='lrice@institution-name.edu', status='active')\n",
            "Student(user_id='1555552', integration_id='', login_id='jthompson', password='', first_name='Jan', last_name='Thompson', full_name='Jan Thompson', sortable_name='Thompson, Jan', short_name='Jan Thompson', email='jthompson@institution-name.edu', status='active')\n",
            "Student(user_id='1555553', integration_id='', login_id='rreeves', password='', first_name='Roger', last_name='Reeves', full_name='Roger Reeves', sortable_name='Reeves, Roger', short_name='Roger Reeves', email='rreeves@institution-name.edu', status='active')\n",
            "Student(user_id='1555554', integration_id='', login_id='wgriffin', password='', first_name='Warren', last_name='Griffin', full_name='Warren Griffin', sortable_name='Griffin, Warren', short_name='Warren Griffin', email='wgriffin@institution-name.edu', status='active')\n",
            "Student(user_id='1555555', integration_id='', login_id='tsanders', password='', first_name='Tammy', last_name='Sanders', full_name='Tammy Sanders', sortable_name='Sanders, Tammy', short_name='Tammy Sanders', email='tsanders@institution-name.edu', status='active')\n",
            "Student(user_id='1555556', integration_id='', login_id='cprice', password='', first_name='Carrie', last_name='Price', full_name='Carrie Price', sortable_name='Price, Carrie', short_name='Carrie Price', email='cprice@institution-name.edu', status='active')\n",
            "Student(user_id='1555557', integration_id='', login_id='abowers', password='', first_name='Alicia', last_name='Bowers', full_name='Alicia Bowers', sortable_name='Bowers, Alicia', short_name='Alicia Bowers', email='abowers@institution-name.edu', status='active')\n",
            "Student(user_id='1555558', integration_id='', login_id='eramsey', password='', first_name='Essie', last_name='Ramsey', full_name='Essie Ramsey', sortable_name='Ramsey, Essie', short_name='Essie Ramsey', email='eramsey@institution-name.edu', status='active')\n",
            "Student(user_id='1555559', integration_id='', login_id='lwillis', password='', first_name='Lila', last_name='Willis', full_name='Lila Willis', sortable_name='Willis, Lila', short_name='Lila Willis', email='lwillis@institution-name.edu', status='active')\n",
            "Student(user_id='1555560', integration_id='', login_id='csoto', password='', first_name='Corey', last_name='Soto', full_name='Corey Soto', sortable_name='Soto, Corey', short_name='Corey Soto', email='csoto@institution-name.edu', status='active')\n",
            "Lonnie Rice\n"
          ]
        }
      ]
    }
  ]
}