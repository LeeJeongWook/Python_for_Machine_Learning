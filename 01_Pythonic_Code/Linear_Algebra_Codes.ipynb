{
  "nbformat": 4,
  "nbformat_minor": 0,
  "metadata": {
    "colab": {
      "name": "Linear_Algebra_Codes.ipynb",
      "provenance": [],
      "collapsed_sections": []
    },
    "kernelspec": {
      "name": "python3",
      "display_name": "Python 3"
    },
    "language_info": {
      "name": "python"
    }
  },
  "cells": [
    {
      "cell_type": "markdown",
      "source": [
        "#####Vector Representation of Python"
      ],
      "metadata": {
        "id": "SGgMCaOQgLhR"
      }
    },
    {
      "cell_type": "code",
      "execution_count": 1,
      "metadata": {
        "colab": {
          "base_uri": "https://localhost:8080/"
        },
        "id": "Sz5uruAcfMr6",
        "outputId": "07840f27-dbb3-41e2-81de-3940092e2570"
      },
      "outputs": [
        {
          "output_type": "stream",
          "name": "stdout",
          "text": [
            "[1, 2, 10] (1, 2, 10) {'x': 1, 'y': 1, 'z': 10}\n"
          ]
        }
      ],
      "source": [
        "vector_a = [1, 2, 10]   # List\n",
        "vector_b = (1, 2, 10)   # Tuple\n",
        "vector_c = {'x': 1, 'y': 1, 'z': 10}    # Dict\n",
        "\n",
        "print(vector_a, vector_b, vector_c)"
      ]
    },
    {
      "cell_type": "code",
      "source": [
        "u = [2, 2]\n",
        "v = [2, 3]\n",
        "z = [3, 5]\n",
        "result = []\n",
        "for i in range(len(u)):\n",
        "    result.append(u[i] + v[i] + z[i])\n",
        "\n",
        "print(result)"
      ],
      "metadata": {
        "colab": {
          "base_uri": "https://localhost:8080/"
        },
        "id": "cu9II28rgiX2",
        "outputId": "73b04ed5-b93d-4795-e512-70ebe3abeebf"
      },
      "execution_count": 2,
      "outputs": [
        {
          "output_type": "stream",
          "name": "stdout",
          "text": [
            "[7, 10]\n"
          ]
        }
      ]
    },
    {
      "cell_type": "code",
      "source": [
        "result = [sum(t) for t in zip(u,v,z)]\n",
        "print(result)"
      ],
      "metadata": {
        "colab": {
          "base_uri": "https://localhost:8080/"
        },
        "id": "_hzjIso8gvBO",
        "outputId": "c606b498-dbcc-46d7-c7ad-d89bc591df4d"
      },
      "execution_count": 3,
      "outputs": [
        {
          "output_type": "stream",
          "name": "stdout",
          "text": [
            "[7, 10]\n"
          ]
        }
      ]
    },
    {
      "cell_type": "markdown",
      "source": [
        "#####Matrix Representation of Python"
      ],
      "metadata": {
        "id": "EGuZ81E7g4rN"
      }
    },
    {
      "cell_type": "code",
      "source": [
        "matrix_a = [[3,6], [4,5]]   # List\n",
        "matrix_b = [(3,6), (4,5)]   # Tuple\n",
        "matrix_c = {(0,0):3, (0,1):6, (1,0):4, (1,1):5}     # Dict"
      ],
      "metadata": {
        "id": "so9Oa70Rg2vS"
      },
      "execution_count": 4,
      "outputs": []
    },
    {
      "cell_type": "markdown",
      "source": [
        "Matrix의 계산: Matrix Addition"
      ],
      "metadata": {
        "id": "m9S5dpImhu0Y"
      }
    },
    {
      "cell_type": "code",
      "source": [
        "matrix_a = [[3,6], [4,5]]   # List\n",
        "matrix_b = [[5,8], [6,7]]   # List\n",
        "result = [[sum(row) for row in zip(*t)] for t in zip(matrix_a, matrix_b)]\n",
        "\n",
        "print(result)"
      ],
      "metadata": {
        "colab": {
          "base_uri": "https://localhost:8080/"
        },
        "id": "aBCY9oR0hX_j",
        "outputId": "1d991bed-b7a5-496d-c970-d9c5cb8f4683"
      },
      "execution_count": 7,
      "outputs": [
        {
          "output_type": "stream",
          "name": "stdout",
          "text": [
            "[[8, 14], [10, 12]]\n"
          ]
        }
      ]
    },
    {
      "cell_type": "markdown",
      "source": [
        "Matrix의 계산: Scalar-Matrix Product"
      ],
      "metadata": {
        "id": "kTA-US-ehyU5"
      }
    },
    {
      "cell_type": "code",
      "source": [
        "matrix_a = [[3,6], [4,5]]\n",
        "alpha = 4\n",
        "result = [[alpha * element for element in t] for t in matrix_a]\n",
        "\n",
        "print(result)"
      ],
      "metadata": {
        "colab": {
          "base_uri": "https://localhost:8080/"
        },
        "id": "S0D47LkMiCHV",
        "outputId": "db46e48e-9d35-41bf-97ef-3d7976bde909"
      },
      "execution_count": 8,
      "outputs": [
        {
          "output_type": "stream",
          "name": "stdout",
          "text": [
            "[[12, 24], [16, 20]]\n"
          ]
        }
      ]
    },
    {
      "cell_type": "markdown",
      "source": [
        "Matrix의 계산: Matrix Transpose"
      ],
      "metadata": {
        "id": "ji3miA1GhyNK"
      }
    },
    {
      "cell_type": "code",
      "source": [
        "matrix_a = [[1,2,3], [4,5,6]]\n",
        "result = [[element for element in t] for t in zip(*matrix_a)]\n",
        "\n",
        "print(result)"
      ],
      "metadata": {
        "colab": {
          "base_uri": "https://localhost:8080/"
        },
        "id": "TVCNxHuSiS3g",
        "outputId": "ed7fc2cb-477e-46da-e483-ac058448c25d"
      },
      "execution_count": 9,
      "outputs": [
        {
          "output_type": "stream",
          "name": "stdout",
          "text": [
            "[[1, 4], [2, 5], [3, 6]]\n"
          ]
        }
      ]
    },
    {
      "cell_type": "markdown",
      "source": [
        "Matrix의 계산: Matrix Product"
      ],
      "metadata": {
        "id": "UwraVafsh-uw"
      }
    },
    {
      "cell_type": "code",
      "source": [
        "matrix_a = [[1,1,2], [2,1,1]]\n",
        "matrix_b = [[1,1], [2,1], [1,3]]\n",
        "result = [[sum(a*b for a,b in zip(row_a, column_b)) for column_b in zip(*matrix_b)] for row_a in matrix_a]\n",
        "\n",
        "print(result)"
      ],
      "metadata": {
        "colab": {
          "base_uri": "https://localhost:8080/"
        },
        "id": "UHb1uAnpipdc",
        "outputId": "8976085e-3614-4215-9de4-766f1b282159"
      },
      "execution_count": 10,
      "outputs": [
        {
          "output_type": "stream",
          "name": "stdout",
          "text": [
            "[[5, 8], [5, 6]]\n"
          ]
        }
      ]
    }
  ]
}